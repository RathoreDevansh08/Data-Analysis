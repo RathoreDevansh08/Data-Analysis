{
  "nbformat": 4,
  "nbformat_minor": 0,
  "metadata": {
    "colab": {
      "name": "combine_xlsheet.ipynb",
      "version": "0.3.2",
      "provenance": [],
      "include_colab_link": true
    },
    "kernelspec": {
      "name": "python3",
      "display_name": "Python 3"
    },
    "accelerator": "GPU"
  },
  "cells": [
    {
      "cell_type": "markdown",
      "metadata": {
        "id": "view-in-github",
        "colab_type": "text"
      },
      "source": [
        "[View in Colaboratory](https://colab.research.google.com/github/iamrajee/Data-Analysis/blob/master/combine_xlsheet.ipynb)"
      ]
    },
    {
      "metadata": {
        "id": "f94SIHk00h8h",
        "colab_type": "code",
        "colab": {
          "base_uri": "https://localhost:8080/",
          "height": 54
        },
        "outputId": "4e0b9b35-f3b4-4ff4-979f-0c4aa10c3d6c"
      },
      "cell_type": "code",
      "source": [
        "!ls"
      ],
      "execution_count": 45,
      "outputs": [
        {
          "output_type": "stream",
          "text": [
            "datalab  extendedjazzlist.csv  Jazz_Disc3_SJJune2018.xls  lastfinallist.csv\r\n"
          ],
          "name": "stdout"
        }
      ]
    },
    {
      "metadata": {
        "id": "hK_iH_Jh1Rrh",
        "colab_type": "code",
        "colab": {}
      },
      "cell_type": "code",
      "source": [
        "# !rm Jazz_Disc3_SJJune2018.xls"
      ],
      "execution_count": 0,
      "outputs": []
    },
    {
      "metadata": {
        "id": "ndRXRMzp0st6",
        "colab_type": "code",
        "colab": {
          "resources": {
            "http://localhost:8080/nbextensions/google.colab/files.js": {
              "data": "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",
              "ok": true,
              "headers": [
                [
                  "content-type",
                  "application/javascript"
                ]
              ],
              "status": 200,
              "status_text": ""
            }
          },
          "base_uri": "https://localhost:8080/",
          "height": 72
        },
        "outputId": "e8a6cf77-40d1-476a-d738-3232a261607f"
      },
      "cell_type": "code",
      "source": [
        "from google.colab import files\n",
        "uploaded = files.upload()"
      ],
      "execution_count": 6,
      "outputs": [
        {
          "output_type": "display_data",
          "data": {
            "text/html": [
              "\n",
              "     <input type=\"file\" id=\"files-794da0ed-64f1-4b6d-98e0-bf6e2b4aafc0\" name=\"files[]\" multiple disabled />\n",
              "     <output id=\"result-794da0ed-64f1-4b6d-98e0-bf6e2b4aafc0\">\n",
              "      Upload widget is only available when the cell has been executed in the\n",
              "      current browser session. Please rerun this cell to enable.\n",
              "      </output>\n",
              "      <script src=\"/nbextensions/google.colab/files.js\"></script> "
            ],
            "text/plain": [
              "<IPython.core.display.HTML object>"
            ]
          },
          "metadata": {
            "tags": []
          }
        },
        {
          "output_type": "stream",
          "text": [
            "Saving lastfinallist.csv to lastfinallist.csv\n"
          ],
          "name": "stdout"
        }
      ]
    },
    {
      "metadata": {
        "id": "3nULj40t1iC7",
        "colab_type": "code",
        "colab": {
          "base_uri": "https://localhost:8080/",
          "height": 54
        },
        "outputId": "cb997dcc-e658-4632-85a4-f4c4a15a0661"
      },
      "cell_type": "code",
      "source": [
        "!pip install xlrd"
      ],
      "execution_count": 7,
      "outputs": [
        {
          "output_type": "stream",
          "text": [
            "Requirement already satisfied: xlrd in /usr/local/lib/python3.6/dist-packages (1.1.0)\r\n"
          ],
          "name": "stdout"
        }
      ]
    },
    {
      "metadata": {
        "id": "XYfDiZzy3SdO",
        "colab_type": "code",
        "colab": {
          "base_uri": "https://localhost:8080/",
          "height": 51
        },
        "outputId": "43a44d3c-ed1b-4829-9432-3b2eff992e56"
      },
      "cell_type": "code",
      "source": [
        "%%time\n",
        "import pandas as pd\n",
        "import xlrd\n",
        "import numpy as np"
      ],
      "execution_count": 9,
      "outputs": [
        {
          "output_type": "stream",
          "text": [
            "CPU times: user 0 ns, sys: 0 ns, total: 0 ns\n",
            "Wall time: 17.4 µs\n"
          ],
          "name": "stdout"
        }
      ]
    },
    {
      "metadata": {
        "id": "qxXzCxRt3dIw",
        "colab_type": "code",
        "colab": {
          "base_uri": "https://localhost:8080/",
          "height": 258
        },
        "outputId": "4402cd73-684b-49f3-f73b-1732b82f93ab"
      },
      "cell_type": "code",
      "source": [
        "df_ = pd.read_csv('lastfinallist.csv')\n",
        "df_.head()"
      ],
      "execution_count": 10,
      "outputs": [
        {
          "output_type": "stream",
          "text": [
            "/usr/local/lib/python3.6/dist-packages/IPython/core/interactiveshell.py:2718: DtypeWarning: Columns (5) have mixed types. Specify dtype option on import or set low_memory=False.\n",
            "  interactivity=interactivity, compiler=compiler, result=result)\n"
          ],
          "name": "stderr"
        },
        {
          "output_type": "execute_result",
          "data": {
            "text/html": [
              "<div>\n",
              "<style scoped>\n",
              "    .dataframe tbody tr th:only-of-type {\n",
              "        vertical-align: middle;\n",
              "    }\n",
              "\n",
              "    .dataframe tbody tr th {\n",
              "        vertical-align: top;\n",
              "    }\n",
              "\n",
              "    .dataframe thead th {\n",
              "        text-align: right;\n",
              "    }\n",
              "</style>\n",
              "<table border=\"1\" class=\"dataframe\">\n",
              "  <thead>\n",
              "    <tr style=\"text-align: right;\">\n",
              "      <th></th>\n",
              "      <th>Unnamed: 0</th>\n",
              "      <th>0</th>\n",
              "      <th>1</th>\n",
              "      <th>2</th>\n",
              "      <th>3</th>\n",
              "      <th>4</th>\n",
              "    </tr>\n",
              "  </thead>\n",
              "  <tbody>\n",
              "    <tr>\n",
              "      <th>0</th>\n",
              "      <td>0</td>\n",
              "      <td>NaN</td>\n",
              "      <td>NaN</td>\n",
              "      <td>NaN</td>\n",
              "      <td>NaN</td>\n",
              "      <td>NaN</td>\n",
              "    </tr>\n",
              "    <tr>\n",
              "      <th>1</th>\n",
              "      <td>1</td>\n",
              "      <td>prague</td>\n",
              "      <td>NaN</td>\n",
              "      <td>NaN</td>\n",
              "      <td>NaN</td>\n",
              "      <td>NaN</td>\n",
              "    </tr>\n",
              "    <tr>\n",
              "      <th>2</th>\n",
              "      <td>2</td>\n",
              "      <td>prague</td>\n",
              "      <td>NaN</td>\n",
              "      <td>NaN</td>\n",
              "      <td>NaN</td>\n",
              "      <td>NaN</td>\n",
              "    </tr>\n",
              "    <tr>\n",
              "      <th>3</th>\n",
              "      <td>3</td>\n",
              "      <td>prague</td>\n",
              "      <td>NaN</td>\n",
              "      <td>NaN</td>\n",
              "      <td>NaN</td>\n",
              "      <td>NaN</td>\n",
              "    </tr>\n",
              "    <tr>\n",
              "      <th>4</th>\n",
              "      <td>4</td>\n",
              "      <td>prague</td>\n",
              "      <td>NaN</td>\n",
              "      <td>NaN</td>\n",
              "      <td>NaN</td>\n",
              "      <td>NaN</td>\n",
              "    </tr>\n",
              "  </tbody>\n",
              "</table>\n",
              "</div>"
            ],
            "text/plain": [
              "   Unnamed: 0       0    1    2    3    4\n",
              "0           0     NaN  NaN  NaN  NaN  NaN\n",
              "1           1  prague  NaN  NaN  NaN  NaN\n",
              "2           2  prague  NaN  NaN  NaN  NaN\n",
              "3           3  prague  NaN  NaN  NaN  NaN\n",
              "4           4  prague  NaN  NaN  NaN  NaN"
            ]
          },
          "metadata": {
            "tags": []
          },
          "execution_count": 10
        }
      ]
    },
    {
      "metadata": {
        "id": "7uU2_DNn4OHQ",
        "colab_type": "code",
        "colab": {
          "base_uri": "https://localhost:8080/",
          "height": 34
        },
        "outputId": "f8d0e4dc-4784-41df-fe59-262fc0e111ae"
      },
      "cell_type": "code",
      "source": [
        "firstlist = []\n",
        "\n",
        "rows = np.shape(df_)[0]\n",
        "columns = np.shape(df_)[1]-1\n",
        "\n",
        "print(columns)\n",
        "\n",
        "newlist = []\n",
        "for i in range(0,rows):\n",
        "  temprow = []\n",
        "  for j in range(0,columns):\n",
        "    tempcol = str(str(j))\n",
        "    ele = str(df_[tempcol][i]).strip().lower()\n",
        "    if ele != \"nan\":\n",
        "      temprow.append(ele)\n",
        "  firstlist.append(np.unique(temprow))"
      ],
      "execution_count": 12,
      "outputs": [
        {
          "output_type": "stream",
          "text": [
            "5\n"
          ],
          "name": "stdout"
        }
      ]
    },
    {
      "metadata": {
        "id": "J10Uzv1q4jye",
        "colab_type": "code",
        "colab": {
          "base_uri": "https://localhost:8080/",
          "height": 34
        },
        "outputId": "745d59ec-a4eb-4f17-de3d-1f2a3bc77414"
      },
      "cell_type": "code",
      "source": [
        "print(firstlist[1])"
      ],
      "execution_count": 13,
      "outputs": [
        {
          "output_type": "stream",
          "text": [
            "['prague']\n"
          ],
          "name": "stdout"
        }
      ]
    },
    {
      "metadata": {
        "id": "-F-5e_C68hrQ",
        "colab_type": "code",
        "colab": {}
      },
      "cell_type": "code",
      "source": [
        "xls = pd.ExcelFile('Jazz_Disc3_SJJune2018.xls')\n",
        "# df = []"
      ],
      "execution_count": 0,
      "outputs": []
    },
    {
      "metadata": {
        "id": "Gwc95G1sFpwb",
        "colab_type": "code",
        "colab": {}
      },
      "cell_type": "code",
      "source": [
        "df = []\n",
        "df.append(pd.read_excel(xls, 'albums'))\n",
        "df.append(pd.read_excel(xls, 'albums 1'))\n",
        "df.append(pd.read_excel(xls, 'albums 2'))\n",
        "df.append(pd.read_excel(xls, 'albums 3'))"
      ],
      "execution_count": 0,
      "outputs": []
    },
    {
      "metadata": {
        "id": "9aQ4g9yQsLpM",
        "colab_type": "code",
        "colab": {
          "base_uri": "https://localhost:8080/",
          "height": 340
        },
        "outputId": "f6bde8a9-f09a-4ace-aeda-1cf9b88ea6ac"
      },
      "cell_type": "code",
      "source": [
        "%%time\n",
        "dfmus = []\n",
        "for i in range(1,18):\n",
        "  filename = \"Copy of musicians \" + str(i)\n",
        "  print(filename)\n",
        "  dfmus.append(pd.read_excel(xls, filename, ignore_index=True))\n"
      ],
      "execution_count": 18,
      "outputs": [
        {
          "output_type": "stream",
          "text": [
            "Copy of musicians 1\n",
            "Copy of musicians 2\n",
            "Copy of musicians 3\n",
            "Copy of musicians 4\n",
            "Copy of musicians 5\n",
            "Copy of musicians 6\n",
            "Copy of musicians 7\n",
            "Copy of musicians 8\n",
            "Copy of musicians 9\n",
            "Copy of musicians 10\n",
            "Copy of musicians 11\n",
            "Copy of musicians 12\n",
            "Copy of musicians 13\n",
            "Copy of musicians 14\n",
            "Copy of musicians 15\n",
            "Copy of musicians 16\n",
            "Copy of musicians 17\n",
            "CPU times: user 7.59 s, sys: 159 ms, total: 7.74 s\n",
            "Wall time: 7.76 s\n"
          ],
          "name": "stdout"
        }
      ]
    },
    {
      "metadata": {
        "id": "A0xt-YQmtWdz",
        "colab_type": "code",
        "colab": {
          "base_uri": "https://localhost:8080/",
          "height": 323
        },
        "outputId": "fcf5e9e5-79fe-4217-da5f-db2d65a5ad3b"
      },
      "cell_type": "code",
      "source": [
        "%%time\n",
        "dfmusall = dfmus[0]\n",
        "\n",
        "for i in range(1,17):\n",
        "  print(i,len(dfmusall))\n",
        "  dfmusall = dfmusall.append(dfmus[i], ignore_index=True)"
      ],
      "execution_count": 19,
      "outputs": [
        {
          "output_type": "stream",
          "text": [
            "1 50000\n",
            "2 100000\n",
            "3 150000\n",
            "4 200000\n",
            "5 250000\n",
            "6 300000\n",
            "7 350000\n",
            "8 400000\n",
            "9 450000\n",
            "10 500000\n",
            "11 550000\n",
            "12 600000\n",
            "13 650000\n",
            "14 700000\n",
            "15 750000\n",
            "16 800000\n",
            "CPU times: user 546 ms, sys: 83 ms, total: 629 ms\n",
            "Wall time: 619 ms\n"
          ],
          "name": "stdout"
        }
      ]
    },
    {
      "metadata": {
        "id": "RVO4v-_n6C0o",
        "colab_type": "code",
        "colab": {}
      },
      "cell_type": "code",
      "source": [
        "# dictall = {}\n",
        "\n",
        "for i in range()\n",
        "# dictall.append"
      ],
      "execution_count": 0,
      "outputs": []
    },
    {
      "metadata": {
        "id": "-uvtCgrbhuVN",
        "colab_type": "code",
        "colab": {}
      },
      "cell_type": "code",
      "source": [
        "dfmusall2 = dfmusall.sort_values(by = ['rid'])"
      ],
      "execution_count": 0,
      "outputs": []
    },
    {
      "metadata": {
        "id": "BzhK8Q9opEvq",
        "colab_type": "code",
        "colab": {
          "base_uri": "https://localhost:8080/",
          "height": 34
        },
        "outputId": "3e0198f7-0ea8-475b-d8af-0ea8df26c86e"
      },
      "cell_type": "code",
      "source": [
        "print(dfmusall['rid'][87849], dfmusall.sort_values('rid')['rid'][87849])"
      ],
      "execution_count": 24,
      "outputs": [
        {
          "output_type": "stream",
          "text": [
            "265300 265300\n"
          ],
          "name": "stdout"
        }
      ]
    },
    {
      "metadata": {
        "id": "sK9ftMph78yx",
        "colab_type": "code",
        "colab": {
          "base_uri": "https://localhost:8080/",
          "height": 51
        },
        "outputId": "b15ce5c9-09fe-4bea-a211-2c40277a84d3"
      },
      "cell_type": "code",
      "source": [
        "musicidlist = dfmusall2['musId']\n",
        "ridlist = dfmusall2['rid']\n",
        "\n",
        "print(len(musicidlist))\n",
        "print(len(ridlist))"
      ],
      "execution_count": 25,
      "outputs": [
        {
          "output_type": "stream",
          "text": [
            "814520\n",
            "814520\n"
          ],
          "name": "stdout"
        }
      ]
    },
    {
      "metadata": {
        "id": "eQRfASubm4ia",
        "colab_type": "code",
        "colab": {
          "base_uri": "https://localhost:8080/",
          "height": 34
        },
        "outputId": "57244ada-1b8d-4d69-eb3e-2226a3870df7"
      },
      "cell_type": "code",
      "source": [
        "i = 87849\n",
        "# i = 345546\n",
        "\n",
        "print(dfmusall['rid'][i], dfmusall2['rid'][i])\n"
      ],
      "execution_count": 26,
      "outputs": [
        {
          "output_type": "stream",
          "text": [
            "265300 265300\n"
          ],
          "name": "stdout"
        }
      ]
    },
    {
      "metadata": {
        "id": "LBeI12f_Gegt",
        "colab_type": "code",
        "colab": {
          "base_uri": "https://localhost:8080/",
          "height": 68
        },
        "outputId": "d2686605-cd6a-4b38-a2ae-0a5f60eebbc4"
      },
      "cell_type": "code",
      "source": [
        "print(df[0].columns)"
      ],
      "execution_count": 27,
      "outputs": [
        {
          "output_type": "stream",
          "text": [
            "Index(['lid', 'rid', 'year', 'month', 'day', 'location', 'title',\n",
            "       'carryForward', 'printDate', 'notes', 'session'],\n",
            "      dtype='object')\n"
          ],
          "name": "stdout"
        }
      ]
    },
    {
      "metadata": {
        "id": "G3qdHhvOHTQJ",
        "colab_type": "code",
        "colab": {
          "base_uri": "https://localhost:8080/",
          "height": 34
        },
        "outputId": "8fdad38f-2f7c-45ff-d540-8a25dd500097"
      },
      "cell_type": "code",
      "source": [
        "print(np.shape(df[0]))"
      ],
      "execution_count": 28,
      "outputs": [
        {
          "output_type": "stream",
          "text": [
            "(50000, 11)\n"
          ],
          "name": "stdout"
        }
      ]
    },
    {
      "metadata": {
        "id": "-eizPx_KNLWz",
        "colab_type": "code",
        "colab": {}
      },
      "cell_type": "code",
      "source": [
        "dfnew = df[0].append(df[1], ignore_index=True)\n",
        "dfnew = dfnew.append(df[2], ignore_index=True)\n",
        "dfnew = dfnew.append(df[3], ignore_index=True)"
      ],
      "execution_count": 0,
      "outputs": []
    },
    {
      "metadata": {
        "id": "PdkZAOtZOFBN",
        "colab_type": "code",
        "colab": {
          "base_uri": "https://localhost:8080/",
          "height": 34
        },
        "outputId": "4be051ad-e367-4718-f58d-5e32a93d15e5"
      },
      "cell_type": "code",
      "source": [
        "print(np.shape(dfnew))"
      ],
      "execution_count": 30,
      "outputs": [
        {
          "output_type": "stream",
          "text": [
            "(153961, 11)\n"
          ],
          "name": "stdout"
        }
      ]
    },
    {
      "metadata": {
        "id": "9Z7jzGdnJUlF",
        "colab_type": "code",
        "colab": {
          "base_uri": "https://localhost:8080/",
          "height": 34
        },
        "outputId": "30d8fa6e-ce88-438b-f9da-9b3c9ede02a8"
      },
      "cell_type": "code",
      "source": [
        "print(dfnew['rid'][116777])"
      ],
      "execution_count": 31,
      "outputs": [
        {
          "output_type": "stream",
          "text": [
            "1214742\n"
          ],
          "name": "stdout"
        }
      ]
    },
    {
      "metadata": {
        "id": "lzzPw9B6WLqw",
        "colab_type": "code",
        "colab": {
          "base_uri": "https://localhost:8080/",
          "height": 34
        },
        "outputId": "5a8c27f0-6357-4a58-ad06-24045608fe5e"
      },
      "cell_type": "code",
      "source": [
        "print(firstlist[1])"
      ],
      "execution_count": 32,
      "outputs": [
        {
          "output_type": "stream",
          "text": [
            "['prague']\n"
          ],
          "name": "stdout"
        }
      ]
    },
    {
      "metadata": {
        "id": "mno0yjyG5dYU",
        "colab_type": "code",
        "colab": {
          "base_uri": "https://localhost:8080/",
          "height": 34
        },
        "outputId": "81124889-7139-47ef-f8e7-bc731c89f178"
      },
      "cell_type": "code",
      "source": [
        "mainlist = []\n",
        "for i,rowlist in enumerate(firstlist):\n",
        "  temprow = []\n",
        "  if len(rowlist) > 0:\n",
        "    temprow.append(rowlist[0])\n",
        "  mainlist.append(temprow)\n",
        "print(len(mainlist))"
      ],
      "execution_count": 33,
      "outputs": [
        {
          "output_type": "stream",
          "text": [
            "153961\n"
          ],
          "name": "stdout"
        }
      ]
    },
    {
      "metadata": {
        "id": "In792kAiTp6G",
        "colab_type": "code",
        "colab": {
          "base_uri": "https://localhost:8080/",
          "height": 34
        },
        "outputId": "45d94919-1c13-4310-9f3e-f5d7917a8f6f"
      },
      "cell_type": "code",
      "source": [
        "print(mainlist[1])"
      ],
      "execution_count": 34,
      "outputs": [
        {
          "output_type": "stream",
          "text": [
            "['prague']\n"
          ],
          "name": "stdout"
        }
      ]
    },
    {
      "metadata": {
        "id": "E0tIeSCG8fIW",
        "colab_type": "code",
        "colab": {}
      },
      "cell_type": "code",
      "source": [
        "locationdf = pd.DataFrame({'location2':mainlist})\n",
        "# print(locationdf)"
      ],
      "execution_count": 0,
      "outputs": []
    },
    {
      "metadata": {
        "id": "JXzJebLKSZDw",
        "colab_type": "code",
        "colab": {}
      },
      "cell_type": "code",
      "source": [
        "dfnew2 = pd.concat([dfnew, locationdf], axis=1)"
      ],
      "execution_count": 0,
      "outputs": []
    },
    {
      "metadata": {
        "id": "0_FOFwGUS6D3",
        "colab_type": "code",
        "colab": {}
      },
      "cell_type": "code",
      "source": [
        "# print(dfnew2)"
      ],
      "execution_count": 0,
      "outputs": []
    },
    {
      "metadata": {
        "id": "GGSKORP-dihz",
        "colab_type": "code",
        "colab": {
          "base_uri": "https://localhost:8080/",
          "height": 459
        },
        "collapsed": true,
        "outputId": "7aa1e55b-27b8-4286-f1d8-c42a0164cfbb"
      },
      "cell_type": "code",
      "source": [
        "for i,row in dfnew2.iterrows():\n",
        "  if i < 2:\n",
        "    print(row)"
      ],
      "execution_count": 38,
      "outputs": [
        {
          "output_type": "stream",
          "text": [
            "lid              244860\n",
            "rid                   0\n",
            "year                NaN\n",
            "month               NaN\n",
            "day                 NaN\n",
            "location            NaN\n",
            "title               NaN\n",
            "carryForward          0\n",
            "printDate             0\n",
            "notes               NaN\n",
            "session         A581.10\n",
            "location2            []\n",
            "Name: 0, dtype: object\n",
            "lid                        10\n",
            "rid                        10\n",
            "year                     1962\n",
            "month                       3\n",
            "day                         3\n",
            "location               Prague\n",
            "title           S & H Quartet\n",
            "carryForward                0\n",
            "printDate                   1\n",
            "notes                     NaN\n",
            "session                    S1\n",
            "location2            [prague]\n",
            "Name: 1, dtype: object\n"
          ],
          "name": "stdout"
        }
      ]
    },
    {
      "metadata": {
        "id": "-Da7Wzruf2BR",
        "colab_type": "code",
        "colab": {
          "base_uri": "https://localhost:8080/",
          "height": 238
        },
        "collapsed": true,
        "outputId": "481be7fb-781a-4e7e-c72c-f5f317330fba"
      },
      "cell_type": "code",
      "source": [
        "print(dfnew2.iloc[0])"
      ],
      "execution_count": 39,
      "outputs": [
        {
          "output_type": "stream",
          "text": [
            "lid              244860\n",
            "rid                   0\n",
            "year                NaN\n",
            "month               NaN\n",
            "day                 NaN\n",
            "location            NaN\n",
            "title               NaN\n",
            "carryForward          0\n",
            "printDate             0\n",
            "notes               NaN\n",
            "session         A581.10\n",
            "location2            []\n",
            "Name: 0, dtype: object\n"
          ],
          "name": "stdout"
        }
      ]
    },
    {
      "metadata": {
        "id": "pQQQHu8RNeGg",
        "colab_type": "code",
        "colab": {
          "base_uri": "https://localhost:8080/",
          "height": 34
        },
        "outputId": "8f5e1868-f7dd-4f9c-fa82-05c4f155bd61"
      },
      "cell_type": "code",
      "source": [
        "print(\"heloo\")"
      ],
      "execution_count": 46,
      "outputs": [
        {
          "output_type": "stream",
          "text": [
            "heloo\n"
          ],
          "name": "stdout"
        }
      ]
    },
    {
      "metadata": {
        "id": "FwSOKuh5TIKx",
        "colab_type": "code",
        "colab": {
          "base_uri": "https://localhost:8080/",
          "height": 428
        },
        "collapsed": true,
        "outputId": "2b46e087-a20c-46e5-98d4-e3e8e6c71abb"
      },
      "cell_type": "code",
      "source": [
        "dfnew3 = dfnew2\n",
        "print(len(dfnew3))\n",
        "for i,rowlist in enumerate(firstlist):\n",
        "  temprow = []\n",
        "  if len(rowlist) > 1:\n",
        "#     print(i,rowlist) \n",
        "    for j in range(1,len(rowlist)):\n",
        "      ele1 = rowlist[j]\n",
        "      dfrow = dfnew3.iloc[i]\n",
        "      dfrow['location2'] = ele1\n",
        "      dfnew3 = dfnew3.append(dfrow, ignore_index=True) \n",
        "  if i%10000 == 0:\n",
        "    print(i)\n",
        "print(len(dfnew3))     "
      ],
      "execution_count": 47,
      "outputs": [
        {
          "output_type": "stream",
          "text": [
            "153961\n",
            "0\n"
          ],
          "name": "stdout"
        },
        {
          "output_type": "stream",
          "text": [
            "/usr/local/lib/python3.6/dist-packages/ipykernel_launcher.py:10: SettingWithCopyWarning: \n",
            "A value is trying to be set on a copy of a slice from a DataFrame\n",
            "\n",
            "See the caveats in the documentation: http://pandas.pydata.org/pandas-docs/stable/indexing.html#indexing-view-versus-copy\n",
            "  # Remove the CWD from sys.path while we load stuff.\n"
          ],
          "name": "stderr"
        },
        {
          "output_type": "stream",
          "text": [
            "10000\n",
            "20000\n",
            "30000\n",
            "40000\n",
            "50000\n",
            "60000\n",
            "70000\n",
            "80000\n",
            "90000\n",
            "100000\n",
            "110000\n",
            "120000\n",
            "130000\n",
            "140000\n",
            "150000\n",
            "158754\n"
          ],
          "name": "stdout"
        }
      ]
    },
    {
      "metadata": {
        "id": "hLyoap23iv1y",
        "colab_type": "code",
        "colab": {
          "base_uri": "https://localhost:8080/",
          "height": 238
        },
        "outputId": "3b2d4f71-2dbc-4cc1-a9e9-981bbe84dee4"
      },
      "cell_type": "code",
      "source": [
        "dfnew3.iloc[9]"
      ],
      "execution_count": 63,
      "outputs": [
        {
          "output_type": "execute_result",
          "data": {
            "text/plain": [
              "lid                      10\n",
              "rid                      90\n",
              "year                   1963\n",
              "month                     9\n",
              "day                      15\n",
              "location        Prague, CZH\n",
              "title           SH Kvinteto\n",
              "carryForward              0\n",
              "printDate                 0\n",
              "notes                   NaN\n",
              "session                  S9\n",
              "location2          [prague]\n",
              "Name: 9, dtype: object"
            ]
          },
          "metadata": {
            "tags": []
          },
          "execution_count": 63
        }
      ]
    },
    {
      "metadata": {
        "id": "PkxyjPRUfxnL",
        "colab_type": "code",
        "colab": {}
      },
      "cell_type": "code",
      "source": [
        "# pd.to_excel()"
      ],
      "execution_count": 0,
      "outputs": []
    },
    {
      "metadata": {
        "id": "OFlHZ7T_a8LD",
        "colab_type": "code",
        "colab": {
          "base_uri": "https://localhost:8080/",
          "height": 34
        },
        "outputId": "e2188784-e769-457e-bd30-0647019e68f3"
      },
      "cell_type": "code",
      "source": [
        "print(len(dfnew3)) "
      ],
      "execution_count": 49,
      "outputs": [
        {
          "output_type": "stream",
          "text": [
            "158754\n"
          ],
          "name": "stdout"
        }
      ]
    },
    {
      "metadata": {
        "id": "IqUw9yfwjkob",
        "colab_type": "code",
        "colab": {
          "base_uri": "https://localhost:8080/",
          "height": 122
        },
        "outputId": "7bac1750-baa3-455f-8192-73223cf49fd6"
      },
      "cell_type": "code",
      "source": [
        "!pip install xlwt"
      ],
      "execution_count": 65,
      "outputs": [
        {
          "output_type": "stream",
          "text": [
            "Collecting xlwt\n",
            "\u001b[?25l  Downloading https://files.pythonhosted.org/packages/44/48/def306413b25c3d01753603b1a222a011b8621aed27cd7f89cbc27e6b0f4/xlwt-1.3.0-py2.py3-none-any.whl (99kB)\n",
            "\u001b[K    100% |████████████████████████████████| 102kB 4.6MB/s \n",
            "\u001b[?25hInstalling collected packages: xlwt\n",
            "Successfully installed xlwt-1.3.0\n"
          ],
          "name": "stdout"
        }
      ]
    },
    {
      "metadata": {
        "id": "agQvL2oykBGS",
        "colab_type": "code",
        "colab": {
          "base_uri": "https://localhost:8080/",
          "height": 292
        },
        "outputId": "1cbaf6e7-7c05-4e36-da82-42ece376be83"
      },
      "cell_type": "code",
      "source": [
        "!pip install openpyxl"
      ],
      "execution_count": 70,
      "outputs": [
        {
          "output_type": "stream",
          "text": [
            "Collecting openpyxl\n",
            "\u001b[?25l  Downloading https://files.pythonhosted.org/packages/f6/13/3c1263b852377738eaa60f99602fb58cc8ad2fd1badb0b724b0d5b532727/openpyxl-2.5.4.tar.gz (170kB)\n",
            "\u001b[K    100% |████████████████████████████████| 174kB 7.2MB/s \n",
            "\u001b[?25hCollecting jdcal (from openpyxl)\n",
            "  Downloading https://files.pythonhosted.org/packages/a0/38/dcf83532480f25284f3ef13f8ed63e03c58a65c9d3ba2a6a894ed9497207/jdcal-1.4-py2.py3-none-any.whl\n",
            "Collecting et_xmlfile (from openpyxl)\n",
            "  Downloading https://files.pythonhosted.org/packages/22/28/a99c42aea746e18382ad9fb36f64c1c1f04216f41797f2f0fa567da11388/et_xmlfile-1.0.1.tar.gz\n",
            "Building wheels for collected packages: openpyxl, et-xmlfile\n",
            "  Running setup.py bdist_wheel for openpyxl ... \u001b[?25l-\b \b\\\b \b|\b \bdone\n",
            "\u001b[?25h  Stored in directory: /content/.cache/pip/wheels/d3/75/83/415a5bbed8366f66a87f7bd0fc28f7df6e13982960f3e5a7ab\n",
            "  Running setup.py bdist_wheel for et-xmlfile ... \u001b[?25l-\b \bdone\n",
            "\u001b[?25h  Stored in directory: /content/.cache/pip/wheels/2a/77/35/0da0965a057698121fc7d8c5a7a9955cdbfb3cc4e2423cad39\n",
            "Successfully built openpyxl et-xmlfile\n",
            "Installing collected packages: jdcal, et-xmlfile, openpyxl\n",
            "Successfully installed et-xmlfile-1.0.1 jdcal-1.4 openpyxl-2.5.4\n"
          ],
          "name": "stdout"
        }
      ]
    },
    {
      "metadata": {
        "id": "HuVkjyWqjp71",
        "colab_type": "code",
        "colab": {}
      },
      "cell_type": "code",
      "source": [
        "import xlwt\n",
        "import openpyxl"
      ],
      "execution_count": 0,
      "outputs": []
    },
    {
      "metadata": {
        "id": "oLQ0fCzU2y9L",
        "colab_type": "code",
        "colab": {}
      },
      "cell_type": "code",
      "source": [
        "filename = \"extendedjazzlist.xlsx\"\n",
        "# my_df = pd.DataFrame(lastfinallist2)\n",
        "dfnew3.to_excel(filename)\n",
        "\n",
        "from google.colab import files\n",
        "downloaded = files.download(filename)"
      ],
      "execution_count": 0,
      "outputs": []
    },
    {
      "metadata": {
        "id": "ZDznxPMkhVDj",
        "colab_type": "code",
        "colab": {
          "base_uri": "https://localhost:8080/",
          "height": 238
        },
        "collapsed": true,
        "outputId": "d67b3add-f52c-4203-891f-917e71bc4114"
      },
      "cell_type": "code",
      "source": [
        "# print(dfnew3.iloc[153987])"
      ],
      "execution_count": 168,
      "outputs": [
        {
          "output_type": "stream",
          "text": [
            "lid                                                          1620\n",
            "rid                                                          7910\n",
            "year                                                         1981\n",
            "month                                                           1\n",
            "day                                                             4\n",
            "location                       New York & San Francisco, CA, 1981\n",
            "title                                                         NaN\n",
            "carryForward                                                    0\n",
            "printDate                                                       0\n",
            "notes           All titles from Theresa TR112/113 also on Evid...\n",
            "session                                                      S791\n",
            "location2                                           san francisco\n",
            "Name: 153987, dtype: object\n"
          ],
          "name": "stdout"
        }
      ]
    },
    {
      "metadata": {
        "id": "kjEoTFm08wJO",
        "colab_type": "code",
        "colab": {
          "base_uri": "https://localhost:8080/",
          "height": 187
        },
        "collapsed": true,
        "outputId": "25cabbaa-18c4-4383-f6b3-ea5b37776c1b"
      },
      "cell_type": "code",
      "source": [
        "# i = 16\n",
        "# # i = 0\n",
        "# print(ridlist[i], musicidlist[i])\n",
        "# print(dfmus[0].iloc[16])"
      ],
      "execution_count": 187,
      "outputs": [
        {
          "output_type": "stream",
          "text": [
            "91160 0\n",
            "rid                91160\n",
            "mid                   10\n",
            "symbol                 *\n",
            "lastName             NaN\n",
            "firstName     no details\n",
            "instrument           NaN\n",
            "id                  2052\n",
            "musId                  0\n",
            "Name: 16, dtype: object\n"
          ],
          "name": "stdout"
        }
      ]
    },
    {
      "metadata": {
        "id": "_uecuHcWj0db",
        "colab_type": "code",
        "colab": {}
      },
      "cell_type": "code",
      "source": [
        "from bisect import bisect_left\n",
        "\n",
        "def binary_search(a, x, lo=0, hi=None):  # can't use a to specify default for hi\n",
        "    hi = hi if hi is not None else len(a)  # hi defaults to len(a)   \n",
        "    pos = bisect_left(a, x, lo, hi)  # find insertion position\n",
        "    return (pos if pos != hi and a[pos] == x else -1)  # don't walk off the end"
      ],
      "execution_count": 0,
      "outputs": []
    },
    {
      "metadata": {
        "id": "M2PI8VaT-NB3",
        "colab_type": "code",
        "colab": {}
      },
      "cell_type": "code",
      "source": [
        "# r = 91140\n",
        "# binary_search(ridlist, r, lo=0, hi=None)"
      ],
      "execution_count": 0,
      "outputs": []
    },
    {
      "metadata": {
        "id": "HTPrPD0BIsTi",
        "colab_type": "code",
        "colab": {
          "base_uri": "https://localhost:8080/",
          "height": 221
        },
        "outputId": "65117b5c-6f76-4d91-a434-1518537f1607"
      },
      "cell_type": "code",
      "source": [
        "newmusid = []\n",
        "newrid = []\n",
        "\n",
        "previosrid = -111\n",
        "\n",
        "\n",
        "count=0\n",
        "for i in range(0,len(ridlist)):\n",
        "  tempmusid = []\n",
        "  r = ridlist[i]\n",
        "  m = musicidlist[i]\n",
        "  \n",
        "  if previosrid == r:\n",
        "    newmusid[count-1].append(m)\n",
        "  else:\n",
        "    b = binary_search(newrid, r, lo=0, hi=None)\n",
        "    if b == -1:\n",
        "      newrid.append(r)\n",
        "      tempmusid.append(m)\n",
        "      newmusid.append(tempmusid)\n",
        "      count+=1\n",
        "    else:\n",
        "      newmusid[b].append(m)\n",
        "      print(\"---------->\"+str(i)+'   (b = '+ str(b)+')   '+ str(r))\n",
        "  if i%250000==0: \n",
        "    print(i)\n",
        "    \n",
        "  previosrid = r\n",
        "    \n",
        "    \n",
        "print(len(ridlist),len(newrid), len(np.unique(newrid)))\n",
        "print(len(musicidlist),len(newmusid), len(np.unique(newmusid)))\n",
        "    "
      ],
      "execution_count": 55,
      "outputs": [
        {
          "output_type": "stream",
          "text": [
            "0\n",
            "---------->87324   (b = 14463)   264770\n",
            "---------->87380   (b = 14464)   264880\n",
            "---------->88853   (b = 14514)   267390\n",
            "---------->240716   (b = 38980)   588610\n",
            "250000\n",
            "---------->287772   (b = 46585)   683300\n",
            "---------->287838   (b = 46586)   683450\n",
            "500000\n",
            "750000\n",
            "814520 130360 130355\n",
            "814520 130360 108514\n"
          ],
          "name": "stdout"
        }
      ]
    },
    {
      "metadata": {
        "id": "YRMd068J1VSR",
        "colab_type": "code",
        "colab": {
          "base_uri": "https://localhost:8080/",
          "height": 374
        },
        "outputId": "d416aaa2-60c4-40e9-adb3-888b70705e40"
      },
      "cell_type": "code",
      "source": [
        "unique3 = []\n",
        "\n",
        "newrid2 = []\n",
        "newmusid2 = []\n",
        "\n",
        "for i in range(0,len(newrid)):\n",
        "  \n",
        "  r = newrid[i]\n",
        "  m = newmusid[i]\n",
        "  \n",
        "  if r not in unique3:\n",
        "    \n",
        "    unique3.append(r)\n",
        "    newrid2.append(r)\n",
        "    newmusid2.append(m)\n",
        "  else:\n",
        "    b = binary_search(unique3, r, lo=0, hi=None)\n",
        "    if b != -1:\n",
        "      for ele2 in m:\n",
        "        newmusid2[b].append(ele2)\n",
        "    else:\n",
        "      print(\"warning\")\n",
        "  if i%10000==0:\n",
        "    print(i)\n",
        "    \n",
        "\n",
        "print(len(ridlist),len(newrid2), len(np.unique(newrid2)))\n",
        "print(len(musicidlist),len(newmusid2), len(np.unique(newmusid2)))\n",
        "\n",
        "print(len(unique3))\n"
      ],
      "execution_count": 56,
      "outputs": [
        {
          "output_type": "stream",
          "text": [
            "0\n",
            "10000\n",
            "warning\n",
            "warning\n",
            "20000\n",
            "30000\n",
            "40000\n",
            "warning\n",
            "warning\n",
            "warning\n",
            "50000\n",
            "60000\n",
            "70000\n",
            "80000\n",
            "90000\n",
            "100000\n",
            "110000\n",
            "120000\n",
            "130000\n",
            "814520 130355 130355\n",
            "814520 130355 108510\n"
          ],
          "name": "stdout"
        }
      ]
    },
    {
      "metadata": {
        "id": "b-Z-zxgQiOMZ",
        "colab_type": "code",
        "colab": {}
      },
      "cell_type": "code",
      "source": [
        "tempmdf = pd.DataFrame({'musicid':newmusid2})\n",
        "\n",
        "temprdf = pd.DataFrame({'rid':newrid2})\n",
        "\n",
        "dfrmid = pd.concat([temprdf, tempmdf], axis=1)"
      ],
      "execution_count": 0,
      "outputs": []
    },
    {
      "metadata": {
        "id": "j8t8Y6iKnLaj",
        "colab_type": "code",
        "colab": {
          "base_uri": "https://localhost:8080/",
          "height": 204
        },
        "outputId": "8a735dd4-9b19-4997-e1e7-ea5a963feb7d"
      },
      "cell_type": "code",
      "source": [
        "dfrmid.head()"
      ],
      "execution_count": 79,
      "outputs": [
        {
          "output_type": "execute_result",
          "data": {
            "text/html": [
              "<div>\n",
              "<style scoped>\n",
              "    .dataframe tbody tr th:only-of-type {\n",
              "        vertical-align: middle;\n",
              "    }\n",
              "\n",
              "    .dataframe tbody tr th {\n",
              "        vertical-align: top;\n",
              "    }\n",
              "\n",
              "    .dataframe thead th {\n",
              "        text-align: right;\n",
              "    }\n",
              "</style>\n",
              "<table border=\"1\" class=\"dataframe\">\n",
              "  <thead>\n",
              "    <tr style=\"text-align: right;\">\n",
              "      <th></th>\n",
              "      <th>rid</th>\n",
              "      <th>musicid</th>\n",
              "    </tr>\n",
              "  </thead>\n",
              "  <tbody>\n",
              "    <tr>\n",
              "      <th>0</th>\n",
              "      <td>91130</td>\n",
              "      <td>[143378, 143379]</td>\n",
              "    </tr>\n",
              "    <tr>\n",
              "      <th>1</th>\n",
              "      <td>91140</td>\n",
              "      <td>[143381, 143382, 143368, 143383, 143384, 14338...</td>\n",
              "    </tr>\n",
              "    <tr>\n",
              "      <th>2</th>\n",
              "      <td>91150</td>\n",
              "      <td>[0]</td>\n",
              "    </tr>\n",
              "    <tr>\n",
              "      <th>3</th>\n",
              "      <td>91160</td>\n",
              "      <td>[0]</td>\n",
              "    </tr>\n",
              "    <tr>\n",
              "      <th>4</th>\n",
              "      <td>91170</td>\n",
              "      <td>[143388, 135609, 143389, 127604, 143390]</td>\n",
              "    </tr>\n",
              "  </tbody>\n",
              "</table>\n",
              "</div>"
            ],
            "text/plain": [
              "     rid                                            musicid\n",
              "0  91130                                   [143378, 143379]\n",
              "1  91140  [143381, 143382, 143368, 143383, 143384, 14338...\n",
              "2  91150                                                [0]\n",
              "3  91160                                                [0]\n",
              "4  91170           [143388, 135609, 143389, 127604, 143390]"
            ]
          },
          "metadata": {
            "tags": []
          },
          "execution_count": 79
        }
      ]
    },
    {
      "metadata": {
        "id": "J7hVXxBonBCz",
        "colab_type": "code",
        "colab": {}
      },
      "cell_type": "code",
      "source": [
        "dfrmid2 = dfrmid.sort_values(by=['rid'])"
      ],
      "execution_count": 0,
      "outputs": []
    },
    {
      "metadata": {
        "id": "Ngx7HmR6nqjn",
        "colab_type": "code",
        "colab": {}
      },
      "cell_type": "code",
      "source": [
        "ridnew5 = dfrmid2['rid']\n",
        "musicidnew5 = dfrmid2['musicid']"
      ],
      "execution_count": 0,
      "outputs": []
    },
    {
      "metadata": {
        "id": "L0Al2JPEn5rv",
        "colab_type": "code",
        "colab": {
          "base_uri": "https://localhost:8080/",
          "height": 255
        },
        "collapsed": true,
        "outputId": "f21b2ca3-dbdc-4e89-f7a1-4c0acfe11d3d"
      },
      "cell_type": "code",
      "source": [
        "previousele = -111\n",
        "for i,ele in enumerate(ridnew5):\n",
        "  if ele<previousele:\n",
        "    print(\"warning\"+str(i))\n",
        "  if i % 10000==0:\n",
        "    print(i)\n",
        "  previousele = ele"
      ],
      "execution_count": 95,
      "outputs": [
        {
          "output_type": "stream",
          "text": [
            "0\n",
            "10000\n",
            "20000\n",
            "30000\n",
            "40000\n",
            "50000\n",
            "60000\n",
            "70000\n",
            "80000\n",
            "90000\n",
            "100000\n",
            "110000\n",
            "120000\n",
            "130000\n"
          ],
          "name": "stdout"
        }
      ]
    },
    {
      "metadata": {
        "id": "0g9OYsXgpsYh",
        "colab_type": "code",
        "colab": {
          "base_uri": "https://localhost:8080/",
          "height": 34
        },
        "outputId": "34c26651-2c5d-4394-fb84-5af9416f4fef"
      },
      "cell_type": "code",
      "source": [
        "orignalridlist = dfnew3['rid']\n",
        "print(len(orignalridlist), len(np.unique(orignalridlist)))"
      ],
      "execution_count": 96,
      "outputs": [
        {
          "output_type": "stream",
          "text": [
            "158754 153961\n"
          ],
          "name": "stdout"
        }
      ]
    },
    {
      "metadata": {
        "id": "v9wLITVKASJI",
        "colab_type": "code",
        "colab": {
          "base_uri": "https://localhost:8080/",
          "height": 306
        },
        "collapsed": true,
        "outputId": "4f8b5a7e-830c-44b8-dd0f-be2c11db64b1"
      },
      "cell_type": "code",
      "source": [
        "corrmidlist = []\n",
        "\n",
        "count = 0\n",
        "for i,ele in enumerate(orignalridlist):\n",
        "  r = ele\n",
        "  b = binary_search(ridnew5, r, lo=0, hi=None)\n",
        "  tempmid1 = []\n",
        "  \n",
        "  \n",
        "  if b != -1:\n",
        "    m = musicidnew5[b]\n",
        "    tempmid1 = m\n",
        "  else:\n",
        "#     print(\"---------->\"+str(i)+\"     \"+str(r))\n",
        "    count+=1\n",
        "    \n",
        "  corrmidlist.append(tempmid1)\n",
        "    \n",
        "    \n",
        "  if i % 10000==0:\n",
        "    print(i)\n",
        "    \n",
        "    \n",
        "print(count)"
      ],
      "execution_count": 99,
      "outputs": [
        {
          "output_type": "stream",
          "text": [
            "0\n",
            "10000\n",
            "20000\n",
            "30000\n",
            "40000\n",
            "50000\n",
            "60000\n",
            "70000\n",
            "80000\n",
            "90000\n",
            "100000\n",
            "110000\n",
            "120000\n",
            "130000\n",
            "140000\n",
            "150000\n",
            "24507\n"
          ],
          "name": "stdout"
        }
      ]
    },
    {
      "metadata": {
        "id": "sXRajQ39v3Rg",
        "colab_type": "code",
        "colab": {}
      },
      "cell_type": "code",
      "source": [
        ""
      ],
      "execution_count": 0,
      "outputs": []
    },
    {
      "metadata": {
        "id": "4gbY57ZIrwlQ",
        "colab_type": "code",
        "colab": {
          "base_uri": "https://localhost:8080/",
          "height": 51
        },
        "outputId": "92f81b2f-4e9f-4304-9bc3-91c8e91e4b9b"
      },
      "cell_type": "code",
      "source": [
        "print(len(corrmidlist))\n",
        "\n",
        "\n",
        "count2 = 0\n",
        "for ele in corrmidlist:\n",
        "  if len(ele) != 0:\n",
        "    count2+=1\n",
        "   \n",
        "print(\"count2:\" + str(count2))  "
      ],
      "execution_count": 101,
      "outputs": [
        {
          "output_type": "stream",
          "text": [
            "158754\n",
            "count2:134247\n"
          ],
          "name": "stdout"
        }
      ]
    },
    {
      "metadata": {
        "id": "QvkViNxgx8z0",
        "colab_type": "code",
        "colab": {
          "base_uri": "https://localhost:8080/",
          "height": 34
        },
        "outputId": "dca574ca-d8b1-4eb8-a5d8-325cee632d83"
      },
      "cell_type": "code",
      "source": [
        "# tef = [\"1\",\"23\",\"5234\"]\n",
        "tef = [23,24,34,23,12]\n",
        "\n",
        "# for ele in tef:\n",
        "  \n",
        "#   tef2 = [''.join(ele)]\n",
        "\n",
        "tef2 = '|'.join(str(ele) for ele in tef) \n",
        "\n",
        "print(tef,tef2)"
      ],
      "execution_count": 110,
      "outputs": [
        {
          "output_type": "stream",
          "text": [
            "[] \n"
          ],
          "name": "stdout"
        }
      ]
    },
    {
      "metadata": {
        "id": "67iwbZC6w2jM",
        "colab_type": "code",
        "colab": {}
      },
      "cell_type": "code",
      "source": [
        "corrmidlist2 = []\n",
        "for rowlist in corrmidlist:\n",
        "  if len(rowlist)>0:\n",
        "    tempele = '|'.join(str(ele) for ele in rowlist)\n",
        "    corrmidlist2.append(tempele)\n",
        "  else:\n",
        "    corrmidlist2.append(rowlist)"
      ],
      "execution_count": 0,
      "outputs": []
    },
    {
      "metadata": {
        "id": "l7vz0mIO0b1H",
        "colab_type": "code",
        "colab": {
          "base_uri": "https://localhost:8080/",
          "height": 51
        },
        "outputId": "c6d1ad80-f105-4353-a0b0-bbbd56ac01b2"
      },
      "cell_type": "code",
      "source": [
        "print(len(corrmidlist2))\n",
        "\n",
        "print(corrmidlist2[128753])"
      ],
      "execution_count": 125,
      "outputs": [
        {
          "output_type": "stream",
          "text": [
            "158754\n",
            "177906|140123|140124|135111|137136|143999\n"
          ],
          "name": "stdout"
        }
      ]
    },
    {
      "metadata": {
        "id": "VFv2zIuy2pHZ",
        "colab_type": "code",
        "colab": {
          "base_uri": "https://localhost:8080/",
          "height": 88
        },
        "outputId": "4693e040-5ee5-4a47-82ff-79223e0dab6b"
      },
      "cell_type": "code",
      "source": [
        "print(dfnew3.columns)"
      ],
      "execution_count": 126,
      "outputs": [
        {
          "output_type": "stream",
          "text": [
            "Index(['lid', 'rid', 'year', 'month', 'day', 'location', 'title',\n",
            "       'carryForward', 'printDate', 'notes', 'session', 'location2'],\n",
            "      dtype='object')\n"
          ],
          "name": "stdout"
        }
      ]
    },
    {
      "metadata": {
        "id": "NVh9OKKxvK30",
        "colab_type": "code",
        "colab": {
          "base_uri": "https://localhost:8080/",
          "height": 51
        },
        "outputId": "bd145b41-acf0-419a-c53d-fea5d1cfad2e"
      },
      "cell_type": "code",
      "source": [
        "loc2list6 = dfnew3['location2']\n",
        "yearlist6 = dfnew3['year']\n",
        "ridlist6 = dfnew3['rid']\n",
        "\n",
        "print(len(loc2list6),len(yearlist6),len(ridlist6),len(corrmidlist2))\n",
        "\n",
        "\n",
        "floclist = []\n",
        "fyearlist = []\n",
        "fridlist = []\n",
        "fmusicidlist = []\n",
        "\n",
        "\n",
        "for i,ele in enumerate(loc2list6):\n",
        "  if len(ele) != 0 and len(str(yearlist6[i]))!=0:\n",
        "    floclist.append(ele)\n",
        "    fyearlist.append(yearlist6[i])\n",
        "    fridlist.append(ridlist6[i])\n",
        "    fmusicidlist.append(corrmidlist2[i])\n",
        "    \n",
        "    \n",
        "print(len(floclist),len(fyearlist),len(fridlist),len(fmusicidlist))\n",
        "    \n",
        "flocdf = pd.DataFrame({'location':floclist})\n",
        "fyeardf = pd.DataFrame({'year':fyearlist})\n",
        "friddf  = pd.DataFrame({'rid':fridlist})\n",
        "fmusicdf = pd.DataFrame({'musicid':fmusicidlist})\n",
        "\n",
        "\n",
        "dflastfinal = pd.concat([flocdf, fyeardf, friddf, fmusicdf], axis=1)"
      ],
      "execution_count": 135,
      "outputs": [
        {
          "output_type": "stream",
          "text": [
            "158754 158754 158754 158754\n",
            "135993 135993 135993 135993\n"
          ],
          "name": "stdout"
        }
      ]
    },
    {
      "metadata": {
        "id": "7k7V07b-3nGe",
        "colab_type": "code",
        "colab": {
          "base_uri": "https://localhost:8080/",
          "height": 2210
        },
        "collapsed": true,
        "outputId": "1a03dc39-aa5a-45c2-f29c-e6bd96d203f0"
      },
      "cell_type": "code",
      "source": [
        "print(dflastfinal.columns)\n",
        "\n",
        "print(len(dflastfinal))\n",
        "\n",
        "print(dflastfinal)"
      ],
      "execution_count": 132,
      "outputs": [
        {
          "output_type": "stream",
          "text": [
            "Index(['location', 'year', 'rid', 'musicid'], dtype='object')\n",
            "135993\n",
            "               location    year      rid  \\\n",
            "0              [prague]  1962.0       10   \n",
            "1              [prague]  1962.0       20   \n",
            "2              [prague]  1962.0       30   \n",
            "3              [prague]  1962.0       40   \n",
            "4              [prague]  1962.0       50   \n",
            "5              [prague]  1963.0       60   \n",
            "6              [prague]  1963.0       70   \n",
            "7              [prague]  1963.0       80   \n",
            "8              [prague]  1963.0       90   \n",
            "9              [prague]  1963.0      100   \n",
            "10             [prague]  1963.0      110   \n",
            "11             [prague]  1964.0      120   \n",
            "12             [prague]  1964.0      130   \n",
            "13             [prague]  1964.0      150   \n",
            "14             [prague]  1964.0      160   \n",
            "15             [prague]  1964.0      170   \n",
            "16             [prague]  1964.0      180   \n",
            "17             [prague]  1964.0      190   \n",
            "18             [prague]  1964.0      200   \n",
            "19             [prague]  1964.0      210   \n",
            "20             [prague]  1964.0      220   \n",
            "21             [prague]  1964.0      230   \n",
            "22             [prague]  1965.0      240   \n",
            "23             [prague]  1965.0      250   \n",
            "24             [prague]  1966.0      260   \n",
            "25             [prague]  1971.0      280   \n",
            "26             [prague]  1972.0      290   \n",
            "27         [bratislava]  1978.0      310   \n",
            "28               [graz]  1991.0      320   \n",
            "29        [los angeles]  1994.0      330   \n",
            "...                 ...     ...      ...   \n",
            "135963             oslo  2000.0  1250054   \n",
            "135964          toronto  1999.0  1250055   \n",
            "135965         new york  2001.0  1250102   \n",
            "135966            miami  2001.0  1250115   \n",
            "135967      los angeles  2003.0  1250116   \n",
            "135968           vienna  1999.0  1249811   \n",
            "135969           london  2003.0  1249836   \n",
            "135970         new york  2003.0  1249873   \n",
            "135971         new york  2003.0  1249874   \n",
            "135972         new york  2001.0  1250195   \n",
            "135973         new york  2003.0  1250197   \n",
            "135974        lexington  2003.0  1250217   \n",
            "135975       louisville  2003.0  1250217   \n",
            "135976       versailles  2003.0  1250217   \n",
            "135977       louisville  2000.0  1250232   \n",
            "135978     pennsylvania  2001.0  1250290   \n",
            "135979         new york  2001.0  1250355   \n",
            "135980  north hollywood  2001.0  1250355   \n",
            "135981          holland  2001.0  1250369   \n",
            "135982          sudbury  2003.0  1250397   \n",
            "135983            tokyo  2003.0  1250422   \n",
            "135984  north hollywood  2001.0  1250440   \n",
            "135985          toronto  2000.0  1250475   \n",
            "135986          chicago  2003.0  1250477   \n",
            "135987         new york  2002.0  1250530   \n",
            "135988         new york  2001.0  1250559   \n",
            "135989             ohio  2000.0  1250568   \n",
            "135990          chicago  2000.0  1250574   \n",
            "135991          toronto  2002.0  1250575   \n",
            "135992         new york  2002.0  1250591   \n",
            "\n",
            "                                                  musicid  \n",
            "0                                                      []  \n",
            "1                                                      []  \n",
            "2                                                      []  \n",
            "3                                                      []  \n",
            "4                                                      []  \n",
            "5                                                      []  \n",
            "6                                                      []  \n",
            "7                                                      []  \n",
            "8                                                      []  \n",
            "9                                                      []  \n",
            "10                                                     []  \n",
            "11                                                     []  \n",
            "12                                                     []  \n",
            "13                                                     []  \n",
            "14                                                     []  \n",
            "15                                                     []  \n",
            "16                                                     []  \n",
            "17                                                     []  \n",
            "18                                                     []  \n",
            "19                                                     []  \n",
            "20                                                     []  \n",
            "21                                                     []  \n",
            "22                                                     []  \n",
            "23                                                     []  \n",
            "24                                                     []  \n",
            "25                                                     []  \n",
            "26                                                     []  \n",
            "27                                                     []  \n",
            "28                                                     []  \n",
            "29                                                     []  \n",
            "...                                                   ...  \n",
            "135963  149520|264628|149513|158418|136153|143942|2646...  \n",
            "135964                        264630|223095|264631|264631  \n",
            "135965  133078|156598|130595|133687|133025|156599|1329...  \n",
            "135966  157462|157463|157464|129182|157465|157466|1574...  \n",
            "135967  157493|157474|157494|157495|157496|157497|1574...  \n",
            "135968  255575|255575|132111|239699|143405|132113|2337...  \n",
            "135969  134480|132465|132458|138667|264365|0|264366|0|...  \n",
            "135970                      134559|0|147002|147003|133943  \n",
            "135971               134559|0|135095|127824|128154|133943  \n",
            "135972  264795|0|127873|138779|128318|128296|169391|16...  \n",
            "135973  264795|0|127873|128263|264802|264812|138287|15...  \n",
            "135974  237188|237189|237190|237191|237192|237185|1594...  \n",
            "135975  237188|237189|237190|237191|237192|237185|1594...  \n",
            "135976  237188|237189|237190|237191|237192|237185|1594...  \n",
            "135977          168788|264922|264923|253627|253627|264924  \n",
            "135978  154021|190871|151909|128833|145969|239214|1280...  \n",
            "135979  128120|128318|128263|130721|240815|134564|1281...  \n",
            "135980  128120|128318|128263|130721|240815|134564|1281...  \n",
            "135981                               205910|163788|150163  \n",
            "135982  265084|0|152079|132273|265085|143769|239855|16...  \n",
            "135983  167164|189192|172008|189167|189167|242277|1927...  \n",
            "135984  242591|0|139440|242602|135308|190623|138893|12...  \n",
            "135985          145789|172783|243563|171288|145798|243564  \n",
            "135986  128296|127634|169391|128339|243615|142683|2436...  \n",
            "135987  128825|0|153796|244936|138121|138569|171570|24...  \n",
            "135988   135079|156500|166858|163320|133296|138849|129016  \n",
            "135989  246049|246050|246050|246050|240670|240670|2460...  \n",
            "135990                                      175723|246139  \n",
            "135991  222559|0|244238|138912|139538|147858|127149|13...  \n",
            "135992               246807|0|127823|130381|246808|133444  \n",
            "\n",
            "[135993 rows x 4 columns]\n"
          ],
          "name": "stdout"
        }
      ]
    },
    {
      "metadata": {
        "id": "sVqlLs-Q3y5Y",
        "colab_type": "code",
        "colab": {}
      },
      "cell_type": "code",
      "source": [
        "filename = \"finaljazz.xlsx\"\n",
        "# my_df = pd.DataFrame(lastfinallist2)\n",
        "dflastfinal.to_excel(filename)\n",
        "\n",
        "from google.colab import files\n",
        "downloaded = files.download(filename)"
      ],
      "execution_count": 0,
      "outputs": []
    },
    {
      "metadata": {
        "id": "kLBeVe3f-LMn",
        "colab_type": "code",
        "colab": {}
      },
      "cell_type": "code",
      "source": [
        ""
      ],
      "execution_count": 0,
      "outputs": []
    }
  ]
}