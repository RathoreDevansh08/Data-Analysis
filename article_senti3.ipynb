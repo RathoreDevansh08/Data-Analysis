{
  "nbformat": 4,
  "nbformat_minor": 0,
  "metadata": {
    "colab": {
      "name": "article_senti3.ipynb",
      "version": "0.3.2",
      "provenance": [],
      "include_colab_link": true
    },
    "kernelspec": {
      "name": "python3",
      "display_name": "Python 3"
    },
    "accelerator": "GPU"
  },
  "cells": [
    {
      "cell_type": "markdown",
      "metadata": {
        "id": "view-in-github",
        "colab_type": "text"
      },
      "source": [
        "[View in Colaboratory](https://colab.research.google.com/github/iamrajee/Data-Analysis/blob/master/article_senti3.ipynb)"
      ]
    },
    {
      "metadata": {
        "id": "hORToWFWrzvn",
        "colab_type": "code",
        "colab": {
          "base_uri": "https://localhost:8080/",
          "height": 34
        },
        "outputId": "1ad9d5b8-f9d7-4557-e4f9-042f8787e144"
      },
      "cell_type": "code",
      "source": [
        "!ls"
      ],
      "execution_count": 1,
      "outputs": [
        {
          "output_type": "stream",
          "text": [
            "datalab\r\n"
          ],
          "name": "stdout"
        }
      ]
    },
    {
      "metadata": {
        "id": "39STAbmVrx_t",
        "colab_type": "code",
        "colab": {}
      },
      "cell_type": "code",
      "source": [
        "# !apt-get install -y -qq software-properties-common python-software-properties module-init-tools\n",
        "# !add-apt-repository -y ppa:alessandro-strada/ppa 2>&1 > /dev/null\n",
        "# !apt-get update -qq 2>&1 > /dev/null\n",
        "# !apt-get -y install -qq google-drive-ocamlfuse fuse\n",
        "# from google.colab import auth\n",
        "# auth.authenticate_user()\n",
        "# from oauth2client.client import GoogleCredentials\n",
        "# creds = GoogleCredentials.get_application_default()\n",
        "# import getpass\n",
        "# !google-drive-ocamlfuse -headless -id={creds.client_id} -secret={creds.client_secret} < /dev/null 2>&1 | grep URL\n",
        "# vcode = getpass.getpass()\n",
        "# !echo {vcode} | google-drive-ocamlfuse -headless -id={creds.client_id} -secret={creds.client_secret}\n",
        "\n",
        "\n",
        "\n",
        "\n",
        "\n",
        "# !mkdir -p drive\n",
        "# !google-drive-ocamlfuse drive\n",
        "\n",
        "\n",
        "# !ls"
      ],
      "execution_count": 0,
      "outputs": []
    },
    {
      "metadata": {
        "id": "NL-MOPNCeFzl",
        "colab_type": "code",
        "colab": {
          "base_uri": "https://localhost:8080/",
          "height": 51
        },
        "outputId": "4addc67e-440c-4e75-f264-b8f7c888761b"
      },
      "cell_type": "code",
      "source": [
        "import numpy as np\n",
        "import pandas as pd\n",
        "\n",
        "import matplotlib.pyplot as plt\n",
        "from scipy.spatial.distance import cdist\n",
        "\n",
        "import keras\n",
        "\n",
        "from keras.models import Sequential\n",
        "from keras.layers import Dense, LSTM, Embedding\n",
        "from keras.optimizers import Adam\n",
        "from keras.preprocessing.text import Tokenizer\n",
        "from keras.preprocessing.sequence import pad_sequences\n",
        "keras.__version__"
      ],
      "execution_count": 2,
      "outputs": [
        {
          "output_type": "stream",
          "text": [
            "Using TensorFlow backend.\n"
          ],
          "name": "stderr"
        },
        {
          "output_type": "execute_result",
          "data": {
            "text/plain": [
              "'2.1.6'"
            ]
          },
          "metadata": {
            "tags": []
          },
          "execution_count": 2
        }
      ]
    },
    {
      "metadata": {
        "id": "Cinym5m8tf-4",
        "colab_type": "code",
        "colab": {}
      },
      "cell_type": "code",
      "source": [
        "# !pip install xlrd"
      ],
      "execution_count": 0,
      "outputs": []
    },
    {
      "metadata": {
        "id": "Kw6AZbM4eLnr",
        "colab_type": "code",
        "colab": {}
      },
      "cell_type": "code",
      "source": [
        "# import xlrd\n",
        "# xlsx_file = \"drive/ML/mancy/labelled training set.xlsx\"\n",
        "# dfs = pd.read_excel(xlsx_file)#, sheetname=\"sheet1\")\n",
        "# dfs"
      ],
      "execution_count": 0,
      "outputs": []
    },
    {
      "metadata": {
        "id": "evkyiEzWtn6L",
        "colab_type": "code",
        "colab": {}
      },
      "cell_type": "code",
      "source": [
        "# filenamelistold = dfs['filename']\n",
        "# neglist = dfs['negative']\n",
        "# neulist = dfs['neutral']\n",
        "# poslist = dfs['positive']\n",
        "\n",
        "# sentimentlist = []\n",
        "# filenamelist = []\n",
        "\n",
        "# for i in range(0,len(filenamelistold)):\n",
        "#   neg = neglist[i]\n",
        "#   neu = neulist[i]\n",
        "#   pos = poslist[i]\n",
        "#   sent = filenamelistold[i]\n",
        "#   if neg == 1:\n",
        "#     sentimentlist.append(0)\n",
        "#     filenamelist.append(sent)\n",
        "#   elif neu == 1:\n",
        "#     sentimentlist.append(1)\n",
        "#     filenamelist.append(sent)\n",
        "#   elif pos == 1:\n",
        "#     sentimentlist.append(2)\n",
        "#     filenamelist.append(sent)\n",
        "    \n",
        "# print(len(filenamelistold), len(filenamelist))"
      ],
      "execution_count": 0,
      "outputs": []
    },
    {
      "metadata": {
        "id": "QX9ZVPmq8gHO",
        "colab_type": "code",
        "colab": {
          "base_uri": "https://localhost:8080/",
          "height": 34
        },
        "outputId": "5be7a9ef-8eee-4b45-d6df-8225fab66f92"
      },
      "cell_type": "code",
      "source": [
        "# text = \"At present that is not treated as shorting because stock is delivered to cover the transaction. In reality, it's shorting by another name because the seller doesn't own the stock it delivers to cover its selling.\"\n",
        "# text.find(\"short\")"
      ],
      "execution_count": 30,
      "outputs": [
        {
          "output_type": "execute_result",
          "data": {
            "text/plain": [
              "34"
            ]
          },
          "metadata": {
            "tags": []
          },
          "execution_count": 30
        }
      ]
    },
    {
      "metadata": {
        "id": "4gEoYkyI5PV7",
        "colab_type": "code",
        "colab": {}
      },
      "cell_type": "code",
      "source": [
        "# path1 = 'drive/ML/mancy/training_set_articles/'\n",
        "\n",
        "# x_refined_data = []\n",
        "# y_refined_data = []\n",
        "\n",
        "# for i in range(0, len(filenamelist)):\n",
        "#   path2 = path1 + filenamelist[i]\n",
        "#   with open(path2, 'r', encoding=\"ISO-8859-1\") as f:\n",
        "#     for line in f:\n",
        "#       if \"short\" in line:\n",
        "#         if \"selling\" in line or \"sale\" in line or \"sell\" in line or \"positions\" in line or \"sold\" in line:\n",
        "#           for subline in line.split(\". \"):\n",
        "#             if (\"hort s\" in subline or \"hort-s\" in subline or \"hort (s\" in subline or \"hort p\" in subline or \"hort- s\" in subline or \"sold short\" in subline or \"selling short\" in subline or \"sell short\" in subline or \"hort S\" in subline or \"hort-S\" in subline or \"sell short\" in subline or \"hort - s\" in subline or \"hort - S\" in subline or \"hortsell\" in subline or \"hort, s\" in subline or \"hort' (s\" in subline or '\"\"short\"\"' in subline or \"position short\" in subline or \"shares short\" in subline or \"stocks short\" in subline or \"funds falling short\" in subline or \"short fund sales\" in subline or \"sales shortfall\" in subline) == 1:\n",
        "#                 x_refined_data.append(subline)\n",
        "#                 y_refined_data.append(sentimentlist[i])\n",
        "\n",
        "# print(len(x_refined_data), len(y_refined_data))"
      ],
      "execution_count": 0,
      "outputs": []
    },
    {
      "metadata": {
        "id": "1GtpXFFju_Lr",
        "colab_type": "code",
        "colab": {}
      },
      "cell_type": "code",
      "source": [
        "# # !pip install tables\n",
        "# # !pip install openpyxl\n",
        "# import openpyxl\n",
        "# import tables\n",
        "# x_refined_datadf = pd.DataFrame({'sentence':x_refined_data})\n",
        "# y_refined_datadf = pd.DataFrame({'sentiment':y_refined_data})\n",
        "\n",
        "# finaldf = pd.concat([x_refined_datadf, y_refined_datadf], axis=1)\n",
        "# filename = 'drive/ML/mancy/' + \"labelleddata.hdf\" \n",
        "# finaldf.to_hdf('./labelleddata.h5','data')\n",
        "\n",
        "# !ls\n",
        "\n",
        "# from google.colab import files\n",
        "# downloaded = files.download(\"labelleddata.h5\")"
      ],
      "execution_count": 0,
      "outputs": []
    },
    {
      "metadata": {
        "id": "k_LsWHmNGHqj",
        "colab_type": "code",
        "colab": {}
      },
      "cell_type": "code",
      "source": [
        "# !pip install tables\n",
        "# !pip install openpyxl\n",
        "import openpyxl\n",
        "import tables\n",
        "finaldf = pd.read_hdf('./drive/ML/mancy/labelleddata.h5','data')\n",
        "x_refined_data = finaldf['sentence']\n",
        "y_refined_data = finaldf['sentiment']"
      ],
      "execution_count": 0,
      "outputs": []
    },
    {
      "metadata": {
        "id": "ieSXUOgT5_kg",
        "colab_type": "code",
        "colab": {}
      },
      "cell_type": "code",
      "source": [
        "num_words = 10000\n",
        "tokenizer = Tokenizer(num_words=num_words)"
      ],
      "execution_count": 0,
      "outputs": []
    },
    {
      "metadata": {
        "id": "bnYg2TGz61JK",
        "colab_type": "code",
        "colab": {
          "base_uri": "https://localhost:8080/",
          "height": 51
        },
        "outputId": "4e569ca6-fa39-4d8b-e808-1e476ef393b5"
      },
      "cell_type": "code",
      "source": [
        "%%time\n",
        "tokenizer.fit_on_texts(x_refined_data)"
      ],
      "execution_count": 51,
      "outputs": [
        {
          "output_type": "stream",
          "text": [
            "CPU times: user 90.5 ms, sys: 830 µs, total: 91.4 ms\n",
            "Wall time: 93.6 ms\n"
          ],
          "name": "stdout"
        }
      ]
    },
    {
      "metadata": {
        "id": "1g8X1rHX63r7",
        "colab_type": "code",
        "colab": {}
      },
      "cell_type": "code",
      "source": [
        "if num_words is None:\n",
        "    num_words = len(tokenizer.word_index)"
      ],
      "execution_count": 0,
      "outputs": []
    },
    {
      "metadata": {
        "id": "6KmqZTs64z0H",
        "colab_type": "code",
        "colab": {}
      },
      "cell_type": "code",
      "source": [
        ""
      ],
      "execution_count": 0,
      "outputs": []
    },
    {
      "metadata": {
        "id": "jIKC5aI-7CR3",
        "colab_type": "code",
        "colab": {
          "base_uri": "https://localhost:8080/",
          "height": 34
        },
        "outputId": "28d7919c-743b-4244-900b-6bce1bf7cf90"
      },
      "cell_type": "code",
      "source": [
        "print(num_words)\n",
        "# tokenizer.word_index"
      ],
      "execution_count": 53,
      "outputs": [
        {
          "output_type": "stream",
          "text": [
            "10000\n"
          ],
          "name": "stdout"
        }
      ]
    },
    {
      "metadata": {
        "id": "6LSxqBko7KNP",
        "colab_type": "code",
        "colab": {}
      },
      "cell_type": "code",
      "source": [
        "from sklearn.model_selection import train_test_split\n",
        "x_refined_data_train, x_refined_data_test, y_train, y_test = train_test_split(x_refined_data, y_refined_data, test_size=0.2, random_state=2)\n",
        "\n",
        "x_train_tokens = tokenizer.texts_to_sequences(x_refined_data_train)\n",
        "x_test_tokens = tokenizer.texts_to_sequences(x_refined_data_test)"
      ],
      "execution_count": 0,
      "outputs": []
    },
    {
      "metadata": {
        "id": "M-Z35aSM9ESj",
        "colab_type": "code",
        "colab": {
          "base_uri": "https://localhost:8080/",
          "height": 34
        },
        "outputId": "62b21a43-c3a4-4c04-c070-f9afb42783b6"
      },
      "cell_type": "code",
      "source": [
        "print(len(x_train_tokens), len(x_test_tokens))"
      ],
      "execution_count": 55,
      "outputs": [
        {
          "output_type": "stream",
          "text": [
            "1930 483\n"
          ],
          "name": "stdout"
        }
      ]
    },
    {
      "metadata": {
        "id": "pxfI69idASWt",
        "colab_type": "code",
        "colab": {
          "base_uri": "https://localhost:8080/",
          "height": 34
        },
        "outputId": "3286f604-167f-468b-e203-d07242492d4b"
      },
      "cell_type": "code",
      "source": [
        "num_tokens = [len(tokens) for tokens in x_train_tokens + x_test_tokens]\n",
        "num_tokens = np.array(num_tokens)\n",
        "print(np.min(num_tokens),np.mean(num_tokens),np.max(num_tokens))\n",
        "max_tokens = np.max(num_tokens)"
      ],
      "execution_count": 56,
      "outputs": [
        {
          "output_type": "stream",
          "text": [
            "2 26.610443431413177 95\n"
          ],
          "name": "stdout"
        }
      ]
    },
    {
      "metadata": {
        "id": "edkg_BmHA96C",
        "colab_type": "code",
        "colab": {}
      },
      "cell_type": "code",
      "source": [
        "pad = 'pre'\n",
        "\n",
        "x_train_pad = pad_sequences(x_train_tokens, maxlen=max_tokens,\n",
        "                            padding=pad, truncating=pad)\n",
        "\n",
        "x_test_pad = pad_sequences(x_test_tokens, maxlen=max_tokens,\n",
        "                            padding=pad, truncating=pad)"
      ],
      "execution_count": 0,
      "outputs": []
    },
    {
      "metadata": {
        "id": "n0E898TiBizv",
        "colab_type": "code",
        "colab": {
          "base_uri": "https://localhost:8080/",
          "height": 34
        },
        "outputId": "413e753c-7f66-413c-b42c-7af3e8b219dc"
      },
      "cell_type": "code",
      "source": [
        "print(x_train_pad.shape ,x_test_pad.shape)"
      ],
      "execution_count": 58,
      "outputs": [
        {
          "output_type": "stream",
          "text": [
            "(1930, 95) (483, 95)\n"
          ],
          "name": "stdout"
        }
      ]
    },
    {
      "metadata": {
        "id": "gzJOI-VnB5Zw",
        "colab_type": "code",
        "colab": {}
      },
      "cell_type": "code",
      "source": [
        "idx = tokenizer.word_index\n",
        "inverse_map = dict(zip(idx.values(), idx.keys()))"
      ],
      "execution_count": 0,
      "outputs": []
    },
    {
      "metadata": {
        "id": "eZuTzrSJBm0g",
        "colab_type": "code",
        "colab": {}
      },
      "cell_type": "code",
      "source": [
        "def tokens_to_string(tokens):\n",
        "    # Map from tokens back to words.\n",
        "    words = [inverse_map[token] for token in tokens if token != 0]\n",
        "    \n",
        "    # Concatenate all words.   \n",
        "    text = \" \".join(words)\n",
        "\n",
        "    return text"
      ],
      "execution_count": 0,
      "outputs": []
    },
    {
      "metadata": {
        "id": "nQQ1Dx-JChv1",
        "colab_type": "code",
        "colab": {}
      },
      "cell_type": "code",
      "source": [
        "# x_refined_data[1]"
      ],
      "execution_count": 0,
      "outputs": []
    },
    {
      "metadata": {
        "id": "aVnbcOSmBqvZ",
        "colab_type": "code",
        "colab": {
          "base_uri": "https://localhost:8080/",
          "height": 54
        },
        "outputId": "1025046d-f71f-4b2a-d4af-296198e57ed2"
      },
      "cell_type": "code",
      "source": [
        "tokens_to_string(x_train_tokens[1])"
      ],
      "execution_count": 62,
      "outputs": [
        {
          "output_type": "execute_result",
          "data": {
            "text/plain": [
              "\"the sfc investigation claimed that tiger asia had sold short 93 million shares in china construction bank after having been approached to take part in a placement of the bank's shares in january 2009\""
            ]
          },
          "metadata": {
            "tags": []
          },
          "execution_count": 62
        }
      ]
    },
    {
      "metadata": {
        "id": "g1Y83rwiaHly",
        "colab_type": "code",
        "colab": {}
      },
      "cell_type": "code",
      "source": [
        "from sklearn.preprocessing import LabelBinarizer\n",
        "encoder = LabelBinarizer()\n",
        "y_train2 = encoder.fit_transform(y_train)"
      ],
      "execution_count": 0,
      "outputs": []
    },
    {
      "metadata": {
        "id": "s3CZ37QUBwmF",
        "colab_type": "code",
        "colab": {}
      },
      "cell_type": "code",
      "source": [
        "model = Sequential()"
      ],
      "execution_count": 0,
      "outputs": []
    },
    {
      "metadata": {
        "id": "zf_F_40cCV94",
        "colab_type": "code",
        "colab": {}
      },
      "cell_type": "code",
      "source": [
        "embedding_size = 32"
      ],
      "execution_count": 0,
      "outputs": []
    },
    {
      "metadata": {
        "id": "yFZ01YEuDNxx",
        "colab_type": "code",
        "colab": {
          "base_uri": "https://localhost:8080/",
          "height": 306
        },
        "outputId": "4c585840-150c-4981-e7f1-82333c0c976a"
      },
      "cell_type": "code",
      "source": [
        "model.add(Embedding(input_dim=num_words,\n",
        "                    output_dim=embedding_size,\n",
        "                    input_length=max_tokens,\n",
        "                    name='layer_embedding'))\n",
        "model.add(LSTM(units=16, return_sequences=True))\n",
        "model.add(LSTM(units=8, return_sequences=True))\n",
        "model.add(LSTM(units=4))\n",
        "model.add(Dense(3, activation='softmax'))\n",
        "model.compile(loss='categorical_crossentropy',\n",
        "              optimizer=Adam(lr=3.5e-6),\n",
        "              metrics=['accuracy'])\n",
        "model.summary()"
      ],
      "execution_count": 66,
      "outputs": [
        {
          "output_type": "stream",
          "text": [
            "_________________________________________________________________\n",
            "Layer (type)                 Output Shape              Param #   \n",
            "=================================================================\n",
            "layer_embedding (Embedding)  (None, 95, 32)            320000    \n",
            "_________________________________________________________________\n",
            "lstm_13 (LSTM)               (None, 95, 16)            3136      \n",
            "_________________________________________________________________\n",
            "lstm_14 (LSTM)               (None, 95, 8)             800       \n",
            "_________________________________________________________________\n",
            "lstm_15 (LSTM)               (None, 4)                 208       \n",
            "_________________________________________________________________\n",
            "dense_5 (Dense)              (None, 3)                 15        \n",
            "=================================================================\n",
            "Total params: 324,159\n",
            "Trainable params: 324,159\n",
            "Non-trainable params: 0\n",
            "_________________________________________________________________\n"
          ],
          "name": "stdout"
        }
      ]
    },
    {
      "metadata": {
        "id": "9a3UpQzkDoLK",
        "colab_type": "code",
        "colab": {}
      },
      "cell_type": "code",
      "source": [
        "%%time\n",
        "n_epochs = 100\n",
        "hist = model.fit(x_train_pad, y_train2,\n",
        "          validation_split=0.05, epochs=n_epochs, batch_size=64)"
      ],
      "execution_count": 0,
      "outputs": []
    },
    {
      "metadata": {
        "id": "i13CWdHeXpm4",
        "colab_type": "code",
        "colab": {
          "base_uri": "https://localhost:8080/",
          "height": 795
        },
        "outputId": "9205122b-20e9-435d-9b72-ed5f6041ab4d"
      },
      "cell_type": "code",
      "source": [
        "# visualizing losses and accuracy\n",
        "train_loss=hist.history['loss']\n",
        "val_loss=hist.history['val_loss']\n",
        "train_acc=hist.history['acc']\n",
        "val_acc=hist.history['val_acc']\n",
        "xc=range(n_epochs)\n",
        "\n",
        "\n",
        "\n",
        "plt.figure(1,figsize=(7,5))\n",
        "plt.plot(xc,train_loss)\n",
        "plt.plot(xc,val_loss)\n",
        "plt.xlabel('num of Epochs')\n",
        "plt.ylabel('loss')\n",
        "plt.title('train_loss vs val_loss')\n",
        "plt.grid(True)\n",
        "plt.legend(['train','val'])\n",
        "#print plt.style.available # use bmh, classic,ggplot for big pictures\n",
        "plt.style.use(['classic'])\n",
        "\n",
        "\n",
        "\n",
        "\n",
        "\n",
        "plt.figure(2,figsize=(7,5))\n",
        "plt.plot(xc,train_acc)\n",
        "plt.plot(xc,val_acc)\n",
        "plt.xlabel('num of Epochs')\n",
        "plt.ylabel('accuracy')\n",
        "plt.title('train_acc vs val_acc')\n",
        "plt.grid(True)\n",
        "plt.legend(['train','val'],loc=4)\n",
        "#print plt.style.available # use bmh, classic,ggplot for big pictures\n",
        "plt.style.use(['classic'])"
      ],
      "execution_count": 36,
      "outputs": [
        {
          "output_type": "display_data",
          "data": {
            "image/png": "[encoded data removed]",
            "text/plain": [
              "<matplotlib.figure.Figure at 0x7fbfa082f978>"
            ]
          },
          "metadata": {
            "tags": []
          }
        },
        {
          "output_type": "display_data",
          "data": {
            "image/png": "[encoded data removed]",
            "text/plain": [
              "<matplotlib.figure.Figure at 0x7fbfa0846940>"
            ]
          },
          "metadata": {
            "tags": []
          }
        }
      ]
    },
    {
      "metadata": {
        "id": "CAFmbcW7YPXE",
        "colab_type": "code",
        "colab": {}
      },
      "cell_type": "code",
      "source": [
        ""
      ],
      "execution_count": 0,
      "outputs": []
    }
  ]
}