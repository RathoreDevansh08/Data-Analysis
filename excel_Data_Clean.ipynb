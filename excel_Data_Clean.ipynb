{
  "nbformat": 4,
  "nbformat_minor": 0,
  "metadata": {
    "colab": {
      "name": "excel_Data_Clean.ipynb",
      "version": "0.3.2",
      "provenance": [],
      "collapsed_sections": [],
      "include_colab_link": true
    },
    "kernelspec": {
      "name": "python3",
      "display_name": "Python 3"
    },
    "accelerator": "GPU"
  },
  "cells": [
    {
      "cell_type": "markdown",
      "metadata": {
        "id": "view-in-github",
        "colab_type": "text"
      },
      "source": [
        "[View in Colaboratory](https://colab.research.google.com/github/iamrajee/Data-Analysis/blob/master/excel_Data_Clean.ipynb)"
      ]
    },
    {
      "metadata": {
        "id": "Pdi3-8nlBdx1",
        "colab_type": "code",
        "colab": {
          "base_uri": "https://localhost:8080/",
          "height": 34
        },
        "outputId": "802d857e-d76e-4ff5-a99d-7698d5d78196"
      },
      "cell_type": "code",
      "source": [
        "!ls"
      ],
      "execution_count": 3,
      "outputs": [
        {
          "output_type": "stream",
          "text": [
            "datalab\r\n"
          ],
          "name": "stdout"
        }
      ]
    },
    {
      "metadata": {
        "id": "JSnW918Y9aMz",
        "colab_type": "code",
        "colab": {}
      },
      "cell_type": "code",
      "source": [
        "# !rm Jazz_Disc3_SJJune2018 (1).xls"
      ],
      "execution_count": 0,
      "outputs": []
    },
    {
      "metadata": {
        "id": "KbW09kpWBgAn",
        "colab_type": "code",
        "colab": {
          "resources": {
            "http://localhost:8080/nbextensions/google.colab/files.js": {
              "data": "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",
              "ok": true,
              "headers": [
                [
                  "content-type",
                  "application/javascript"
                ]
              ],
              "status": 200,
              "status_text": ""
            }
          },
          "base_uri": "https://localhost:8080/",
          "height": 89
        },
        "outputId": "ce07cbb4-f62d-420a-e2e1-94cb90c3269a"
      },
      "cell_type": "code",
      "source": [
        "from google.colab import files\n",
        "uploaded = files.upload()"
      ],
      "execution_count": 4,
      "outputs": [
        {
          "output_type": "display_data",
          "data": {
            "text/html": [
              "\n",
              "     <input type=\"file\" id=\"files-75a4a833-81d0-4b10-8d36-880f67f91c08\" name=\"files[]\" multiple disabled />\n",
              "     <output id=\"result-75a4a833-81d0-4b10-8d36-880f67f91c08\">\n",
              "      Upload widget is only available when the cell has been executed in the\n",
              "      current browser session. Please rerun this cell to enable.\n",
              "      </output>\n",
              "      <script src=\"/nbextensions/google.colab/files.js\"></script> "
            ],
            "text/plain": [
              "<IPython.core.display.HTML object>"
            ]
          },
          "metadata": {
            "tags": []
          }
        },
        {
          "output_type": "stream",
          "text": [
            "Saving Jazz_Disc3_SJJune2018.xls to Jazz_Disc3_SJJune2018.xls\n"
          ],
          "name": "stdout"
        }
      ]
    },
    {
      "metadata": {
        "id": "ioHOSJuSBwR1",
        "colab_type": "code",
        "colab": {
          "base_uri": "https://localhost:8080/",
          "height": 1516
        },
        "collapsed": true,
        "outputId": "df651e81-4a87-42e9-8e1d-55ab78bdb451"
      },
      "cell_type": "code",
      "source": [
        "%%time\n",
        "!pip install spacy\n",
        "!python3 -m spacy download en"
      ],
      "execution_count": 5,
      "outputs": [
        {
          "output_type": "stream",
          "text": [
            "Collecting spacy\n",
            "\u001b[?25l  Downloading https://files.pythonhosted.org/packages/3c/31/e60f88751e48851b002f78a35221d12300783d5a43d4ef12fbf10cca96c3/spacy-2.0.11.tar.gz (17.6MB)\n",
            "\u001b[K    100% |████████████████████████████████| 17.6MB 2.0MB/s \n",
            "\u001b[?25hRequirement already satisfied: numpy>=1.7 in /usr/local/lib/python3.6/dist-packages (from spacy) (1.14.5)\n",
            "Collecting murmurhash<0.29,>=0.28 (from spacy)\n",
            "  Downloading https://files.pythonhosted.org/packages/5e/31/c8c1ecafa44db30579c8c457ac7a0f819e8b1dbc3e58308394fff5ff9ba7/murmurhash-0.28.0.tar.gz\n",
            "Collecting cymem<1.32,>=1.30 (from spacy)\n",
            "  Downloading https://files.pythonhosted.org/packages/f8/9e/273fbea507de99166c11cd0cb3fde1ac01b5bc724d9a407a2f927ede91a1/cymem-1.31.2.tar.gz\n",
            "Collecting preshed<2.0.0,>=1.0.0 (from spacy)\n",
            "\u001b[?25l  Downloading https://files.pythonhosted.org/packages/1b/ac/7c17b1fd54b60972785b646d37da2826311cca70842c011c4ff84fbe95e0/preshed-1.0.0.tar.gz (89kB)\n",
            "\u001b[K    100% |████████████████████████████████| 92kB 6.7MB/s \n",
            "\u001b[?25hCollecting thinc<6.11.0,>=6.10.1 (from spacy)\n",
            "\u001b[?25l  Downloading https://files.pythonhosted.org/packages/55/fd/e9f36081e6f53699943381858848f3b4d759e0dd03c43b98807dde34c252/thinc-6.10.2.tar.gz (1.2MB)\n",
            "\u001b[K    100% |████████████████████████████████| 1.2MB 17.0MB/s \n",
            "\u001b[?25hCollecting plac<1.0.0,>=0.9.6 (from spacy)\n",
            "  Downloading https://files.pythonhosted.org/packages/9e/9b/62c60d2f5bc135d2aa1d8c8a86aaf84edb719a59c7f11a4316259e61a298/plac-0.9.6-py2.py3-none-any.whl\n",
            "Collecting pathlib (from spacy)\n",
            "\u001b[?25l  Downloading https://files.pythonhosted.org/packages/ac/aa/9b065a76b9af472437a0059f77e8f962fe350438b927cb80184c32f075eb/pathlib-1.0.1.tar.gz (49kB)\n",
            "\u001b[K    100% |████████████████████████████████| 51kB 13.7MB/s \n",
            "\u001b[?25hCollecting ujson>=1.35 (from spacy)\n",
            "\u001b[?25l  Downloading https://files.pythonhosted.org/packages/16/c4/79f3409bc710559015464e5f49b9879430d8f87498ecdc335899732e5377/ujson-1.35.tar.gz (192kB)\n",
            "\u001b[K    100% |████████████████████████████████| 194kB 22.1MB/s \n",
            "\u001b[?25hCollecting dill<0.3,>=0.2 (from spacy)\n",
            "\u001b[?25l  Downloading https://files.pythonhosted.org/packages/e5/d5/f129d6bec4eebb6f8b74d37226bb8f94380439bf8201dd9b553a41503410/dill-0.2.8.1.tar.gz (150kB)\n",
            "\u001b[K    100% |████████████████████████████████| 153kB 22.0MB/s \n",
            "\u001b[?25hCollecting regex==2017.4.5 (from spacy)\n",
            "\u001b[?25l  Downloading https://files.pythonhosted.org/packages/36/62/c0c0d762ffd4ffaf39f372eb8561b8d491a11ace5a7884610424a8b40f95/regex-2017.04.05.tar.gz (601kB)\n",
            "\u001b[K    100% |████████████████████████████████| 604kB 17.8MB/s \n",
            "\u001b[?25hCollecting wrapt (from thinc<6.11.0,>=6.10.1->spacy)\n",
            "  Downloading https://files.pythonhosted.org/packages/a0/47/66897906448185fcb77fc3c2b1bc20ed0ecca81a0f2f88eda3fc5a34fc3d/wrapt-1.10.11.tar.gz\n",
            "Collecting tqdm<5.0.0,>=4.10.0 (from thinc<6.11.0,>=6.10.1->spacy)\n",
            "\u001b[?25l  Downloading https://files.pythonhosted.org/packages/93/24/6ab1df969db228aed36a648a8959d1027099ce45fad67532b9673d533318/tqdm-4.23.4-py2.py3-none-any.whl (42kB)\n",
            "\u001b[K    100% |████████████████████████████████| 51kB 16.4MB/s \n",
            "\u001b[?25hCollecting cytoolz<0.9,>=0.8 (from thinc<6.11.0,>=6.10.1->spacy)\n",
            "\u001b[?25l  Downloading https://files.pythonhosted.org/packages/0f/e6/ccc124714dcc1bd511e64ddafb4d5d20ada2533b92e3173a4cf09e0d0831/cytoolz-0.8.2.tar.gz (386kB)\n",
            "\u001b[K    100% |████████████████████████████████| 389kB 22.1MB/s \n",
            "\u001b[?25hRequirement already satisfied: six<2.0.0,>=1.10.0 in /usr/local/lib/python3.6/dist-packages (from thinc<6.11.0,>=6.10.1->spacy) (1.11.0)\n",
            "Requirement already satisfied: termcolor in /usr/local/lib/python3.6/dist-packages (from thinc<6.11.0,>=6.10.1->spacy) (1.1.0)\n",
            "Collecting msgpack-python (from thinc<6.11.0,>=6.10.1->spacy)\n",
            "\u001b[?25l  Downloading https://files.pythonhosted.org/packages/8a/20/6eca772d1a5830336f84aca1d8198e5a3f4715cd1c7fc36d3cc7f7185091/msgpack-python-0.5.6.tar.gz (138kB)\n",
            "\u001b[K    100% |████████████████████████████████| 143kB 22.6MB/s \n",
            "\u001b[?25hCollecting msgpack-numpy==0.4.1 (from thinc<6.11.0,>=6.10.1->spacy)\n",
            "  Downloading https://files.pythonhosted.org/packages/2e/43/393e30e2768b0357541ac95891f96b80ccc4d517e0dd2fa3042fc8926538/msgpack_numpy-0.4.1-py2.py3-none-any.whl\n",
            "Requirement already satisfied: toolz>=0.8.0 in /usr/local/lib/python3.6/dist-packages (from cytoolz<0.9,>=0.8->thinc<6.11.0,>=6.10.1->spacy) (0.9.0)\n",
            "Building wheels for collected packages: spacy, murmurhash, cymem, preshed, thinc, pathlib, ujson, dill, regex, wrapt, cytoolz, msgpack-python\n",
            "  Running setup.py bdist_wheel for spacy ... \u001b[?25l-\b \b\\\b \b|\b \b/\b \b-"
          ],
          "name": "stdout"
        },
        {
          "output_type": "stream",
          "text": [
            "\b \b\\\b \b|\b \b/\b \b-\b \b\\\b \b|\b \b/\b \b-\b \b\\\b \b|\b \b/\b \b-\b \b\\\b \b|\b \b/\b \b-\b \b\\\b \b|\b \b/\b \b-\b \b\\\b \b|\b \b/\b \b-\b \b\\\b \b|\b \b/\b \b-\b \b\\\b \b|\b \b/\b \b-\b \b\\\b \b|\b \b/\b \b-\b \b\\\b \b|\b \b/\b \b-\b \b\\\b \b|\b \b/\b \b-\b \b\\\b \b|\b \b/\b \b-\b \b\\\b \b|\b \b/\b \b-\b \b\\\b \b|\b \b/\b \b-\b \b\\\b \b|\b \b/\b \b-\b \b\\\b \b|\b \b/\b \b-\b \b\\\b \b|\b \b/\b \b-\b \b\\\b \b|\b \b/\b \b-\b \b\\\b \bdone\n",
            "\u001b[?25h  Stored in directory: /content/.cache/pip/wheels/fb/00/28/75c85d5135e7d9a100639137d1847d41e914ed16c962d467e4\n",
            "  Running setup.py bdist_wheel for murmurhash ... \u001b[?25l-\b \b\\\b \b|\b \b/\b \bdone\n",
            "\u001b[?25h  Stored in directory: /content/.cache/pip/wheels/b8/94/a4/f69f8664cdc1098603df44771b7fec5fd1b3d8364cdd83f512\n",
            "  Running setup.py bdist_wheel for cymem ... \u001b[?25l-\b \b\\\b \bdone\n",
            "\u001b[?25h  Stored in directory: /content/.cache/pip/wheels/55/8d/4a/f6328252aa2aaec0b1cb906fd96a1566d77f0f67701071ad13\n",
            "  Running setup.py bdist_wheel for preshed ... \u001b[?25l-\b \b\\\b \b|\b \b/\b \b-\b \b\\\b \b|\b \bdone\n",
            "\u001b[?25h  Stored in directory: /content/.cache/pip/wheels/8f/85/06/2d132fb649a6bbcab22487e4147880a55b0dd0f4b18fdfd6b5\n",
            "  Running setup.py bdist_wheel for thinc ... \u001b[?25l-\b \b\\\b \b|\b \b/\b \b-\b \b\\\b \b|\b \b/\b \b-\b \b\\\b \b|\b \b/\b \b-\b \b\\\b \b|\b \b/\b \b-\b \b\\\b \b|\b \b/\b \b-\b \b\\\b \b|\b \b/\b \b-\b \bdone\n",
            "\u001b[?25h  Stored in directory: /content/.cache/pip/wheels/d8/5c/3e/9acf5d9974fb1c9e7b467563ea5429c9325f67306e93147961\n",
            "  Running setup.py bdist_wheel for pathlib ... \u001b[?25l-\b \bdone\n",
            "\u001b[?25h  Stored in directory: /content/.cache/pip/wheels/f9/b2/4a/68efdfe5093638a9918bd1bb734af625526e849487200aa171\n",
            "  Running setup.py bdist_wheel for ujson ... \u001b[?25l-\b \b\\\b \b|\b \b/\b \b-\b \b\\\b \bdone\n",
            "\u001b[?25h  Stored in directory: /content/.cache/pip/wheels/28/77/e4/0311145b9c2e2f01470e744855131f9e34d6919687550f87d1\n",
            "  Running setup.py bdist_wheel for dill ... \u001b[?25l-\b \b\\\b \bdone\n",
            "\u001b[?25h  Stored in directory: /content/.cache/pip/wheels/4a/98/2a/fc487cad6b65c1a6acf7f36da286de4ce4aa7ec73ba5ccc598\n",
            "  Running setup.py bdist_wheel for regex ... \u001b[?25l-\b \b\\\b \b|\b \b/\b \b-\b \b\\\b \b|\b \bdone\n",
            "\u001b[?25h  Stored in directory: /content/.cache/pip/wheels/75/07/38/3c16b529d50cb4e0cd3dbc7b75cece8a09c132692c74450b01\n",
            "  Running setup.py bdist_wheel for wrapt ... \u001b[?25l-\b \b\\\b \bdone\n",
            "\u001b[?25h  Stored in directory: /content/.cache/pip/wheels/48/5d/04/22361a593e70d23b1f7746d932802efe1f0e523376a74f321e\n",
            "  Running setup.py bdist_wheel for cytoolz ... \u001b[?25l-\b \b\\\b \b|\b \b/"
          ],
          "name": "stdout"
        },
        {
          "output_type": "stream",
          "text": [
            "\b \b-\b \b\\\b \b|\b \b/\b \bdone\n",
            "\u001b[?25h  Stored in directory: /content/.cache/pip/wheels/f8/b1/86/c92e4d36b690208fff8471711b85eaa6bc6d19860a86199a09\n",
            "  Running setup.py bdist_wheel for msgpack-python ... \u001b[?25l-\b \b\\\b \b|\b \b/\b \bdone\n",
            "\u001b[?25h  Stored in directory: /content/.cache/pip/wheels/d5/de/86/7fa56fda12511be47ea0808f3502bc879df4e63ab168ec0406\n",
            "Successfully built spacy murmurhash cymem preshed thinc pathlib ujson dill regex wrapt cytoolz msgpack-python\n",
            "Installing collected packages: murmurhash, cymem, preshed, wrapt, tqdm, cytoolz, plac, dill, pathlib, msgpack-python, msgpack-numpy, thinc, ujson, regex, spacy\n",
            "Successfully installed cymem-1.31.2 cytoolz-0.8.2 dill-0.2.8.1 msgpack-numpy-0.4.1 msgpack-python-0.5.6 murmurhash-0.28.0 pathlib-1.0.1 plac-0.9.6 preshed-1.0.0 regex-2017.4.5 spacy-2.0.11 thinc-6.10.2 tqdm-4.23.4 ujson-1.35 wrapt-1.10.11\n",
            "Collecting https://github.com/explosion/spacy-models/releases/download/en_core_web_sm-2.0.0/en_core_web_sm-2.0.0.tar.gz\n",
            "\u001b[?25l  Downloading https://github.com/explosion/spacy-models/releases/download/en_core_web_sm-2.0.0/en_core_web_sm-2.0.0.tar.gz (37.4MB)\n",
            "\u001b[K    100% |████████████████████████████████| 37.4MB 45.1MB/s \n",
            "\u001b[?25hInstalling collected packages: en-core-web-sm\n",
            "  Running setup.py install for en-core-web-sm ... \u001b[?25l-\b \b\\\b \b|\b \bdone\n",
            "\u001b[?25hSuccessfully installed en-core-web-sm-2.0.0\n",
            "\n",
            "\u001b[93m    Linking successful\u001b[0m\n",
            "    /usr/local/lib/python3.6/dist-packages/en_core_web_sm -->\n",
            "    /usr/local/lib/python3.6/dist-packages/spacy/data/en\n",
            "\n",
            "    You can now load the model via spacy.load('en')\n",
            "\n",
            "CPU times: user 6.95 s, sys: 2 s, total: 8.95 s\n",
            "Wall time: 5min 18s\n"
          ],
          "name": "stdout"
        }
      ]
    },
    {
      "metadata": {
        "id": "m3zOQY1jOQqY",
        "colab_type": "code",
        "colab": {
          "base_uri": "https://localhost:8080/",
          "height": 122
        },
        "outputId": "4ccf8dcd-17df-473b-c360-ea9c3b99e179"
      },
      "cell_type": "code",
      "source": [
        "!pip install xlrd"
      ],
      "execution_count": 6,
      "outputs": [
        {
          "output_type": "stream",
          "text": [
            "Collecting xlrd\n",
            "\u001b[?25l  Downloading https://files.pythonhosted.org/packages/07/e6/e95c4eec6221bfd8528bcc4ea252a850bffcc4be88ebc367e23a1a84b0bb/xlrd-1.1.0-py2.py3-none-any.whl (108kB)\n",
            "\u001b[K    100% |████████████████████████████████| 112kB 2.0MB/s \n",
            "\u001b[?25hInstalling collected packages: xlrd\n",
            "Successfully installed xlrd-1.1.0\n"
          ],
          "name": "stdout"
        }
      ]
    },
    {
      "metadata": {
        "id": "9IGyeeuUBiC0",
        "colab_type": "code",
        "colab": {}
      },
      "cell_type": "code",
      "source": [
        "import numpy as np\n",
        "import spacy\n",
        "en_nlp = spacy.load('en')"
      ],
      "execution_count": 0,
      "outputs": []
    },
    {
      "metadata": {
        "id": "CIpVlK_wSyzt",
        "colab_type": "code",
        "colab": {
          "base_uri": "https://localhost:8080/",
          "height": 119
        },
        "outputId": "174414b2-784a-4193-cb55-a909697e1d0d"
      },
      "cell_type": "code",
      "source": [
        "%%time\n",
        "import pandas as pd\n",
        "import xlrd\n",
        "# df = pandas.read_excel('Jazz_Disc3_SJJune2018.xls')\n",
        "\n",
        "xls = pd.ExcelFile('Jazz_Disc3_SJJune2018.xls')\n",
        "df = []\n",
        "df.append(pd.read_excel(xls, 'albums'))\n",
        "df.append(pd.read_excel(xls, 'albums 1'))\n",
        "df.append(pd.read_excel(xls, 'albums 2'))\n",
        "df.append(pd.read_excel(xls, 'albums 3'))\n",
        "\n",
        "values = []\n",
        "values.append(df[0]['location'].values)\n",
        "values.append(df[1]['location'].values)\n",
        "values.append(df[2]['location'].values)\n",
        "values.append(df[3]['location'].values)\n",
        "\n",
        "for i in range(0,4):\n",
        "  print(np.shape(values[i]))"
      ],
      "execution_count": 8,
      "outputs": [
        {
          "output_type": "stream",
          "text": [
            "(50000,)\n",
            "(50000,)\n",
            "(50000,)\n",
            "(3961,)\n",
            "CPU times: user 26.3 s, sys: 210 ms, total: 26.5 s\n",
            "Wall time: 26.6 s\n"
          ],
          "name": "stdout"
        }
      ]
    },
    {
      "metadata": {
        "id": "RxIy6c__1d6q",
        "colab_type": "code",
        "colab": {
          "base_uri": "https://localhost:8080/",
          "height": 34
        },
        "outputId": "a08467a9-0dee-4dda-9056-0437e955432f"
      },
      "cell_type": "code",
      "source": [
        "print(values[0][4766])"
      ],
      "execution_count": 9,
      "outputs": [
        {
          "output_type": "stream",
          "text": [
            "\"Melody & Madness\" show, Ritz Carleton Hotel, Boston, Mass.\n"
          ],
          "name": "stdout"
        }
      ]
    },
    {
      "metadata": {
        "id": "d8hv57hBXQyw",
        "colab_type": "code",
        "colab": {}
      },
      "cell_type": "code",
      "source": [
        "# for i in range(0,4):\n",
        "#   print(df[0].columns)"
      ],
      "execution_count": 0,
      "outputs": []
    },
    {
      "metadata": {
        "id": "DucNtWmYAhi-",
        "colab_type": "code",
        "colab": {
          "base_uri": "https://localhost:8080/",
          "height": 802
        },
        "collapsed": true,
        "outputId": "8507a8a4-4b66-4016-d165-c600eb0c6f9c"
      },
      "cell_type": "code",
      "source": [
        "# # print(values[0][40])\n",
        "# # print(values[0][129])\n",
        "# # print(values[0][186])\n",
        "# # print(values[0][194])\n",
        "# # print(values[0][196])\n",
        "# # print(values[0][202])\n",
        "# # print(values[0][203])\n",
        "# # print(values[0][280])\n",
        "# # print(values[0][389])\n",
        "# # print(values[0][566])\n",
        "# # print(values[0][569])\n",
        "# # print(values[0][594])\n",
        "# # print(values[0][645])\n",
        "# # print(values[0][657])\n",
        "# # print(values[0][785])\n",
        "# # print(values[0][858])\n",
        "# # print(values[0][863])\n",
        "# # print(values[0][864])\n",
        "# # print(values[0][1389])\n",
        "# # print(values[0][1391])\n",
        "# # print(values[0][1488])\n",
        "# # print(values[0][1489])\n",
        "\n",
        "# # print(values[0][1155])\n",
        "# # print(values[0][1157])\n",
        "# # print(values[0][1160])\n",
        "# # print(values[0][1162])\n",
        "# print(values[0][1884])\n",
        "\n",
        "\n",
        "# print(values[0][1592])\n",
        "# print(values[0][1605])\n",
        "\n",
        "\n",
        "#values[0][1592], values[0][1605], values[3][3856],\n",
        "# newvalues1 = [values[3][2282],values[3][3738], values[3][1059], values[0][1958], values[0][1676], values[0][1675], values[0][1870], values[0][1985], values[0][1806], values[0][1872], values[0][1674], values[0][1679], values[0][1495], values[0][1373], values[0][1772], values[0][1000], values[0][1001], values[0][1002], values[3][3090]]\n",
        "\n",
        "\n",
        "\n",
        "# intlist = [1258,1267,1340,1381,1416,1452,1577,1726,2544,2596,2647,2805,3273,3288,3494,3697,4336,4451,4757,5985]\n",
        "intlist = [4766,4767,5494,5509,7426,7922,9889,10032]\n",
        "newvalues2 = []\n",
        "for val in intlist:\n",
        "  newvalues2.append(values[0][val])\n",
        "  \n",
        "newvalues1 = newvalues2\n",
        "for k in range(0,len(newvalues1)):\n",
        "  print(\"\\n\" + str(k) + \") \" +str(newvalues1[k]))\n",
        "  tempdoc = en_nlp(str(newvalues1[k]))\n",
        "  templist1 = str(tempdoc).split(',')\n",
        "  print(\"  templist1: \" + str(templist1))\n",
        "  \n",
        "  templist2 = []\n",
        "  flag1 = 0\n",
        "  for i,phrase in enumerate(templist1):\n",
        "      for ent in en_nlp(phrase).ents:\n",
        "        print(\"    -\" + ent.label_ + \" : \"+ ent.text)\n",
        "        "
      ],
      "execution_count": 13,
      "outputs": [
        {
          "output_type": "stream",
          "text": [
            "\n",
            "0) \"Melody & Madness\" show, Ritz Carleton Hotel, Boston, Mass.\n",
            "  templist1: ['\"Melody & Madness\" show', ' Ritz Carleton Hotel', ' Boston', ' Mass.']\n",
            "    -WORK_OF_ART : Melody & Madness\n",
            "    -ORG :  Ritz Carleton Hotel\n",
            "    -ORG :  Boston\n",
            "    -GPE : Mass.\n",
            "\n",
            "1) Broadcast, Ritz Carleton Hotel, Boston, Mass.\n",
            "  templist1: ['Broadcast', ' Ritz Carleton Hotel', ' Boston', ' Mass.']\n",
            "    -ORG :  Ritz Carleton Hotel\n",
            "    -ORG :  Boston\n",
            "    -GPE : Mass.\n",
            "\n",
            "2) Northampton, Mass., 1984\n",
            "  templist1: ['Northampton', ' Mass.', ' 1984']\n",
            "    -PERSON : Northampton\n",
            "    -GPE : Mass.\n",
            "    -DATE : 1984\n",
            "\n",
            "3) Live \"Club Cantare\", Boston, Mass.\n",
            "  templist1: ['Live \"Club Cantare\"', ' Boston', ' Mass.']\n",
            "    -ORG :  Boston\n",
            "    -GPE : Mass.\n",
            "\n",
            "4) Madison, Tenn.\n",
            "  templist1: ['Madison', ' Tenn.']\n",
            "    -PERSON : Madison\n",
            "    -ORG :  Tenn.\n",
            "\n",
            "5) Westwood, Mass., February 11 & 12 and May 2, 1995\n",
            "  templist1: ['Westwood', ' Mass.', ' February 11 & 12 and May 2', ' 1995']\n",
            "    -GPE : Mass.\n",
            "    -DATE : February 11\n",
            "    -DATE : May 2\n",
            "    -DATE : 1995\n",
            "\n",
            "6) Cape Cod, Mass.\n",
            "  templist1: ['Cape Cod', ' Mass.']\n",
            "    -LOC : Cape Cod\n",
            "    -GPE : Mass.\n",
            "\n",
            "7) Meriden, Conn.\n",
            "  templist1: ['Meriden', ' Conn.']\n",
            "    -ORG :  Conn.\n"
          ],
          "name": "stdout"
        }
      ]
    },
    {
      "metadata": {
        "id": "0x-9EOQ-PsAd",
        "colab_type": "code",
        "colab": {}
      },
      "cell_type": "code",
      "source": [
        "# df = pd.read_csv('albums1.csv')\n",
        "\n",
        "# for i,val in enumerate(intlist):\n",
        "#   print(str(val)+\"---\"+str(i) + \") \" + df['0'][val])"
      ],
      "execution_count": 0,
      "outputs": []
    },
    {
      "metadata": {
        "id": "6-zJLFhsOVJr",
        "colab_type": "code",
        "colab": {
          "base_uri": "https://localhost:8080/",
          "height": 34
        },
        "outputId": "e0e118ec-f160-4c54-a1af-7df2ea015ab5"
      },
      "cell_type": "code",
      "source": [
        "for i in range(0,4):\n",
        "  values[i] = list(values[i])\n",
        "\n",
        "newvalues = []\n",
        "for i in range(0,4):\n",
        "  for ele in values[i]:\n",
        "    newvalues.append(ele)\n",
        "print(np.shape(newvalues))\n",
        "\n",
        "def hasNumbers(inputString):\n",
        "  return any(char.isdigit() for char in inputString)"
      ],
      "execution_count": 18,
      "outputs": [
        {
          "output_type": "stream",
          "text": [
            "(153961,)\n"
          ],
          "name": "stdout"
        }
      ]
    },
    {
      "metadata": {
        "id": "Q0JQE77XeJWb",
        "colab_type": "code",
        "colab": {}
      },
      "cell_type": "code",
      "source": [
        "# phrase = 'Live \"Kent State University\"'\n",
        "# phrase = (phrase.split('\"'))[1].split('\"')[0]\n",
        "# phrase"
      ],
      "execution_count": 0,
      "outputs": []
    },
    {
      "metadata": {
        "id": "xEkk1Y_CYXIS",
        "colab_type": "code",
        "colab": {
          "base_uri": "https://localhost:8080/",
          "height": 51
        },
        "outputId": "f616bb4a-1806-4899-b187-84b49f445b5c"
      },
      "cell_type": "code",
      "source": [
        "%%time\n",
        "newvalues = values[3]#[20000:50000]\n",
        "templistall = []\n",
        "for k in range(0,len(newvalues)):\n",
        "#   print(\"\\n\" + str(k) + \") \" +str(newvalues[k]))\n",
        "  tempdoc = en_nlp(str(newvalues[k]))\n",
        "  templist1 = str(tempdoc).split(',')\n",
        "#   print(\"  templist1: \" + str(templist1))\n",
        "  \n",
        "  templist2 = []\n",
        "  flag1 = 0\n",
        "  for i,phrase in enumerate(templist1):\n",
        "      \n",
        "      for ent in en_nlp(phrase).ents:\n",
        "#         print(\"    -\" + ent.label_ + \" : \"+ ent.text) #and (ent.text.lstrip())[1] != \".\"\n",
        "        if ent.label_ == \"GPE\" and len(ent.text.lstrip()) > 3  and ent.text != \"N.Y.\" and ent.text != \"N.J.\" and ent.text != \"M.D.\" and ent.text != \"MD\" and ent.text != \"C.A.\" and ent.text != \"N.M.\":# or (ent.text[0] != \" \" and ent.text[2] != \".\"):\n",
        "          if (len(ent.text.lstrip()) == 4 and ent.text.lstrip()[1] == \".\" and ent.text.lstrip()[3] == \".\") == 0:\n",
        "            templist2.append(ent.text)\n",
        "            flag1 = 1\n",
        "#           else:  \n",
        "#             templist2.append(ent.text)\n",
        "#             flag1 = 1\n",
        "#           print(str(len(ent.text)) + \"---\" + ent.text)\n",
        "#         if ent.label_ == \"GPE\" and len(ent.text.lstrip()) <= 4:\n",
        "#           print(ent.text)\n",
        "  \n",
        "  \n",
        "  if flag1 == 0:\n",
        "    for i,phrase in enumerate(templist1):\n",
        "        for ent in en_nlp(phrase).ents:\n",
        "          if ent.label_ == \"ORG\" and len(ent.text.lstrip()) > 3:\n",
        "            if hasNumbers(ent.text) == 0:\n",
        "              templist2.append(ent.text)\n",
        "              flag1 = 1\n",
        "  \n",
        "  \n",
        "  \n",
        "  if flag1 == 0:\n",
        "    for i,phrase in enumerate(templist1):\n",
        "        for ent in en_nlp(phrase).ents:\n",
        "          if ent.label_ == \"LOC\":\n",
        "            if hasNumbers(ent.text) == 0:\n",
        "              templist2.append(ent.text)\n",
        "              flag1 = 1\n",
        "  \n",
        "  \n",
        "  \n",
        "  \n",
        "          \n",
        "  if flag1 == 0:\n",
        "    for i,phrase in enumerate(templist1):\n",
        "        for ent in en_nlp(phrase).ents:\n",
        "          if ent.label_ == \"PERSON\" and ent.text != \"CA\" and ent.text != \"C.A.\" and len(ent.text.lstrip()) > 3: #and ent.text[1] != \".\":\n",
        "            templist2.append(ent.text)\n",
        "            flag1 = 1\n",
        "            \n",
        "  \n",
        "  \n",
        "            \n",
        "  if flag1 == 0:\n",
        "    for i,phrase in enumerate(templist1):\n",
        "        for ent in en_nlp(phrase).ents:\n",
        "          if ent.label_ == \"EVENT\":\n",
        "            tempdoc3 = en_nlp(ent.text)\n",
        "            for token in tempdoc3:\n",
        "              if token.lower_ != \"jazz\" and token.lower_ != \"festival\" and token.lower_ != \"of\" and token.lower_ != \"music\":\n",
        "                templist2.append(str(token))\n",
        "                flag1 = 1\n",
        "                \n",
        "  if flag1 == 0:\n",
        "    for i,phrase in enumerate(templist1):\n",
        "        for ent in en_nlp(phrase).ents:\n",
        "          if ent.label_ == \"WORK_OF_ART\":\n",
        "            tempdoc3 = en_nlp(ent.text)\n",
        "            for token in tempdoc3:\n",
        "              if token.lower_ != \"jazz\" and token.lower_ != \"festival\" and token.lower_ != \"of\" and token.lower_ != \"music\":\n",
        "                templist2.append(str(token))\n",
        "                flag1 = 1\n",
        "  \n",
        "  \n",
        "  if flag1 == 0:\n",
        "    flag3=0\n",
        "    for i,phrase in enumerate(templist1):\n",
        "      flag2 = 0\n",
        "      for ent in en_nlp(phrase).ents:\n",
        "          flag2 = 1\n",
        "          \n",
        "      for token in en_nlp(phrase):\n",
        "          if token.lower_ == \"nan\" or token.lower_ == \"date\" or token.lower_ == \"dates\" or token.lower_ == \"from\" or token.lower_ == \"this\" or token.lower_ == \"same\" or token.lower_ == \"unknown\" or token.lower_ == \"location\" or token.lower_ == \"unidentified\":\n",
        "#             print(\"********\"+str(token))\n",
        "            flag3=1 \n",
        "#           else:\n",
        "#             print(token.lower_)\n",
        "            \n",
        "      if flag2 == 0 and flag1 == 0 and flag3 == 0:\n",
        "          for token in en_nlp(phrase):\n",
        "            if token.lower_ == \"live\" and '\"' in phrase:\n",
        "              phrase = (phrase.split('\"'))[1].split('\"')[0]\n",
        "            \n",
        "            isSubstring = \"(*)\" in phrase\n",
        "            if isSubstring == 0:\n",
        "              templist2.append(phrase)\n",
        "        \n",
        "  \n",
        "#   if len(templist2) > 1:\n",
        "#     templist2 = [templist2[0]] \n",
        "    \n",
        "#   print(\"  templist2: \" + str(templist2))\n",
        "  templistall.append(templist2)\n",
        "\n",
        "for z,templist in  enumerate(templistall):\n",
        "  for i in range(0,len(templist)):\n",
        "    templist[i] = (templist[i]).strip()\n",
        "  templistall[z] = templist\n",
        "#   print(str(z) + \") \" + str(templist))\n",
        "  \n",
        "\n",
        "  \n",
        "  "
      ],
      "execution_count": 20,
      "outputs": [
        {
          "output_type": "stream",
          "text": [
            "CPU times: user 9min 6s, sys: 4min 50s, total: 13min 57s\n",
            "Wall time: 7min\n"
          ],
          "name": "stdout"
        }
      ]
    },
    {
      "metadata": {
        "id": "a4-vnyeL35IK",
        "colab_type": "code",
        "colab": {
          "base_uri": "https://localhost:8080/",
          "height": 34
        },
        "outputId": "ceb01eef-1f46-44f1-f39e-e675b587c53a"
      },
      "cell_type": "code",
      "source": [
        "print(len(templistall))"
      ],
      "execution_count": 21,
      "outputs": [
        {
          "output_type": "stream",
          "text": [
            "3961\n"
          ],
          "name": "stdout"
        }
      ]
    },
    {
      "metadata": {
        "id": "2LnDAEe0JojO",
        "colab_type": "code",
        "colab": {}
      },
      "cell_type": "code",
      "source": [
        "filename = \"newalbums3.csv\"\n",
        "my_df = pd.DataFrame(templistall)\n",
        "my_df.to_csv(filename)\n",
        "\n",
        "from google.colab import files\n",
        "downloaded = files.download(filename)"
      ],
      "execution_count": 0,
      "outputs": []
    },
    {
      "metadata": {
        "id": "fI8yhuXk3BwE",
        "colab_type": "code",
        "colab": {}
      },
      "cell_type": "code",
      "source": [
        "%%time\n",
        "filename = []\n",
        "filename.append(\"albums0.csv\")\n",
        "filename.append(\"albums1.csv\")\n",
        "filename.append(\"albums2.csv\")\n",
        "filename.append(\"albums3.csv\")\n",
        "\n",
        "\n",
        "\n",
        "for w in range(0,1):\n",
        "  newvalues = values[w]#[20000:50000]\n",
        "  templistall = []\n",
        "  for k in range(0,len(newvalues)):\n",
        "#   print(\"\\n\" + str(k) + \") \" +str(newvalues[k]))\n",
        "    tempdoc = en_nlp(str(newvalues[k]))\n",
        "    templist1 = str(tempdoc).split(',')\n",
        "#   print(\"  templist1: \" + str(templist1))\n",
        "  \n",
        "    templist2 = []\n",
        "    flag1 = 0\n",
        "    for i,phrase in enumerate(templist1):\n",
        "      \n",
        "        for ent in en_nlp(phrase).ents:\n",
        "#         print(\"    -\" + ent.label_ + \" : \"+ ent.text) #and (ent.text.lstrip())[1] != \".\"\n",
        "         if ent.label_ == \"GPE\" and len(ent.text.lstrip()) > 3  and ent.text != \"N.Y.\" and ent.text != \"N.J.\" and ent.text != \"M.D.\" and ent.text != \"MD\" and ent.text != \"C.A.\" and ent.text != \"N.M.\":# or (ent.text[0] != \" \" and ent.text[2] != \".\"):\n",
        "            if (len(ent.text.lstrip()) == 4 and ent.text.lstrip()[1] == \".\" and ent.text.lstrip()[3] == \".\") == 0:\n",
        "              templist2.append(ent.text)\n",
        "              flag1 = 1\n",
        "    \n",
        "    \n",
        "    if flag1 == 0:\n",
        "      for i,phrase in enumerate(templist1):\n",
        "          for ent in en_nlp(phrase).ents:\n",
        "            if ent.label_ == \"ORG\" and len(ent.text.lstrip()) > 3:\n",
        "              if hasNumbers(ent.text) == 0:\n",
        "                templist2.append(ent.text)\n",
        "                flag1 = 1\n",
        "    \n",
        "    \n",
        "    \n",
        "    if flag1 == 0:\n",
        "      for i,phrase in enumerate(templist1):\n",
        "          for ent in en_nlp(phrase).ents:\n",
        "            if ent.label_ == \"PERSON\" and ent.text != \"CA\" and ent.text != \"C.A.\" and len(ent.text.lstrip()) > 3: #and ent.text[1] != \".\":\n",
        "              templist2.append(ent.text)\n",
        "              flag1 = 1\n",
        "            \n",
        "    if flag1 == 0:\n",
        "      for i,phrase in enumerate(templist1):\n",
        "          for ent in en_nlp(phrase).ents:\n",
        "            if ent.label_ == \"LOC\":\n",
        "              if hasNumbers(ent.text) == 0:\n",
        "                templist2.append(ent.text)\n",
        "                flag1 = 1\n",
        "  \n",
        "    \n",
        "            \n",
        "    if flag1 == 0:\n",
        "      for i,phrase in enumerate(templist1):\n",
        "          for ent in en_nlp(phrase).ents:\n",
        "            if ent.label_ == \"EVENT\":\n",
        "              tempdoc3 = en_nlp(ent.text)\n",
        "              for token in tempdoc3:\n",
        "                if token.lower_ != \"jazz\" and token.lower_ != \"festival\" and token.lower_ != \"of\" and token.lower_ != \"music\":\n",
        "                  templist2.append(str(token))\n",
        "                  flag1 = 1\n",
        "                \n",
        "    if flag1 == 0:\n",
        "      for i,phrase in enumerate(templist1):\n",
        "          for ent in en_nlp(phrase).ents:\n",
        "            if ent.label_ == \"WORK_OF_ART\":\n",
        "              tempdoc3 = en_nlp(ent.text)\n",
        "              for token in tempdoc3:\n",
        "                if token.lower_ != \"jazz\" and token.lower_ != \"festival\" and token.lower_ != \"of\" and token.lower_ != \"music\":\n",
        "                  templist2.append(str(token))\n",
        "                  flag1 = 1\n",
        "  \n",
        "  \n",
        "    if flag1 == 0:\n",
        "      flag3=0\n",
        "      for i,phrase in enumerate(templist1):\n",
        "        flag2 = 0\n",
        "        for ent in en_nlp(phrase).ents:\n",
        "            flag2 = 1\n",
        "          \n",
        "        for token in en_nlp(phrase):\n",
        "            if token.lower_ == \"nan\" or token.lower_ == \"date\" or token.lower_ == \"dates\" or token.lower_ == \"from\" or token.lower_ == \"this\" or token.lower_ == \"same\" or token.lower_ == \"unknown\" or token.lower_ == \"location\" or token.lower_ == \"unidentified\":\n",
        "#             print(\"********\"+str(token))\n",
        "              flag3=1 \n",
        "#           else:\n",
        "#             print(token.lower_)\n",
        "            \n",
        "        if flag2 == 0 and flag1 == 0 and flag3 == 0:\n",
        "            for token in en_nlp(phrase):\n",
        "              if token.lower_ == \"live\" and '\"' in phrase:\n",
        "                phrase = (phrase.split('\"'))[1].split('\"')[0]\n",
        "            \n",
        "              isSubstring = \"(*)\" in phrase\n",
        "              if isSubstring == 0:\n",
        "                templist2.append(phrase)\n",
        "        \n",
        "  \n",
        "#     if len(templist2) > 1:\n",
        "#       templist2 = [templist2[0]] \n",
        "    \n",
        "#   print(\"  templist2: \" + str(templist2))\n",
        "    templistall.append(templist2)\n",
        "\n",
        "  for z,templist in  enumerate(templistall):\n",
        "    if len(templist) != 0:\n",
        "      templist[0] = (templist[0]).lstrip()\n",
        "#   print(str(z) + \") \" + str(templist))\n",
        "  \n",
        "\n",
        "\n",
        "  \n",
        "  my_df = pd.DataFrame(templistall)\n",
        "  my_df.to_csv(filename[w])\n",
        "\n",
        "  from google.colab import files\n",
        "  downloaded = files.download(filename)"
      ],
      "execution_count": 0,
      "outputs": []
    },
    {
      "metadata": {
        "id": "FGmeFm5ysWEM",
        "colab_type": "code",
        "colab": {
          "base_uri": "https://localhost:8080/",
          "height": 34
        },
        "outputId": "94bb419d-5947-4981-82d1-e91cd4619d7c"
      },
      "cell_type": "code",
      "source": [
        "!ls"
      ],
      "execution_count": 24,
      "outputs": [
        {
          "output_type": "stream",
          "text": [
            "datalab  Jazz_Disc3_SJJune2018.xls  newalbums3.csv\r\n"
          ],
          "name": "stdout"
        }
      ]
    },
    {
      "metadata": {
        "id": "6rLl2hR0gGwD",
        "colab_type": "code",
        "colab": {}
      },
      "cell_type": "code",
      "source": [
        "# # templistall1 = templistall\n",
        "# print(len(templistall1))\n",
        "\n",
        "# # templistall2 = templistall\n",
        "# print(len(templistall2))\n",
        "\n",
        "# templistall3 = templistall\n",
        "# print(len(templistall3))\n",
        "\n",
        "# templistall4 = templistall\n",
        "# print(len(templistall4))\n",
        "\n",
        "# templistall5 = templistall\n",
        "# print(len(templistall5))\n",
        "\n",
        "# templistall6 = templistall\n",
        "# print(len(templistall6))"
      ],
      "execution_count": 0,
      "outputs": []
    },
    {
      "metadata": {
        "id": "9QoLUffhevU2",
        "colab_type": "code",
        "colab": {}
      },
      "cell_type": "code",
      "source": [
        "# filename = \"albums.csv\"\n",
        "# my_df = pd.DataFrame(templistall)\n",
        "# my_df.to_csv(filename)\n",
        "\n",
        "# from google.colab import files\n",
        "# downloaded = files.download(filename)"
      ],
      "execution_count": 0,
      "outputs": []
    },
    {
      "metadata": {
        "id": "L8nNKiclsYvi",
        "colab_type": "code",
        "colab": {}
      },
      "cell_type": "code",
      "source": [
        "# !ls"
      ],
      "execution_count": 0,
      "outputs": []
    },
    {
      "metadata": {
        "id": "I35T8trSA2aI",
        "colab_type": "code",
        "colab": {}
      },
      "cell_type": "code",
      "source": [
        ""
      ],
      "execution_count": 0,
      "outputs": []
    }
  ]
}