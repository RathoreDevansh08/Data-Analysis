{
  "nbformat": 4,
  "nbformat_minor": 0,
  "metadata": {
    "colab": {
      "name": "final_date_accuracy.ipynb",
      "version": "0.3.2",
      "provenance": [],
      "collapsed_sections": [],
      "include_colab_link": true
    },
    "kernelspec": {
      "name": "python3",
      "display_name": "Python 3"
    },
    "accelerator": "GPU"
  },
  "cells": [
    {
      "cell_type": "markdown",
      "metadata": {
        "id": "view-in-github",
        "colab_type": "text"
      },
      "source": [
        "[View in Colaboratory](https://colab.research.google.com/github/iamrajee/Data-Analysis/blob/master/final_date_accuracy.ipynb)"
      ]
    },
    {
      "metadata": {
        "id": "xgsoGXdBAq3x",
        "colab_type": "code",
        "colab": {}
      },
      "cell_type": "code",
      "source": [
        "import numpy\n",
        "import pandas as pd\n",
        "import os\n",
        "import csv\n",
        "import os.path\n",
        "from bs4 import BeautifulSoup\n",
        "from pandas import DataFrame\n",
        "D = []\n",
        "E = []\n",
        "f = []\n",
        "list1 = []\n",
        "path1 = \"drive/new_images\"\n",
        "data_dir_list = os.listdir(path1)\n",
        "\n",
        "img_data_list=[]\n",
        "\n",
        "for dataset in data_dir_list:\n",
        "\timg_list=os.listdir(data_path+'/'+ dataset)\n",
        "\tprint ('Loaded the images of dataset-'+'{}\\n'.format(dataset))\n",
        "\tfor img in img_list:\n",
        "    if img.endswith(\".html\"):\n",
        "      img_data_list.append(img)\n",
        "\n",
        "    \n",
        "sorted_files = sorted(img_data_list, key=lambda x: x)\n",
        "for image in sorted_files:\n",
        "    print(image)\n",
        "    if image.endswith(\".html\"):\n",
        "        infile = path1 + image\n",
        "        soup = BeautifulSoup(open(infile))\n",
        "        all_table = soup.find_all('table')\n",
        "        A = []\n",
        "        B = []\n",
        "        C = []\n",
        "\n",
        "        for line in all_table:\n",
        "            for row in line.find_all('tr'):\n",
        "                cells = row.findAll('td', )\n",
        "                if len(cells) == 2:\n",
        "                    A.append(cells[0].find(text=True).string.strip())\n",
        "                    B.append(cells[1].find(text=True).string.strip())\n",
        "            for j in range(0, 5):\n",
        "                if A[j] == 'Date':\n",
        "                    C.append(B[j])\n",
        "\n",
        "\n",
        "            D = '_'.join(''.join(elems) for elems in C)\n",
        "        E.append(D)\n",
        "# for ele in E:\n",
        "    # print(ele)\n",
        "\n",
        "F = numpy.asarray([E])\n",
        "outfile = \"/home/rajendra/ResearchShala/transfer_Learning/painting_creativity/dates_data1.csv\"\n",
        "\n",
        "filename = \"dates_data2.csv\"\n",
        "# my_df = pd.DataFrame(E)\n",
        "# my_df.to_csv(filename)\n",
        "\n"
      ],
      "execution_count": 0,
      "outputs": []
    }
  ]
}