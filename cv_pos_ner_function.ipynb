{
  "nbformat": 4,
  "nbformat_minor": 0,
  "metadata": {
    "colab": {
      "name": "cv_pos_ner_function.ipynb",
      "version": "0.3.2",
      "provenance": [],
      "include_colab_link": true
    },
    "kernelspec": {
      "name": "python3",
      "display_name": "Python 3"
    },
    "accelerator": "GPU"
  },
  "cells": [
    {
      "cell_type": "markdown",
      "metadata": {
        "id": "view-in-github",
        "colab_type": "text"
      },
      "source": [
        "[View in Colaboratory](https://colab.research.google.com/github/iamrajee/Data-Analysis/blob/master/cv_pos_ner_function.ipynb)"
      ]
    },
    {
      "metadata": {
        "id": "CtwPsFnL0LIv",
        "colab_type": "code",
        "colab": {}
      },
      "cell_type": "code",
      "source": [
        ""
      ],
      "execution_count": 0,
      "outputs": []
    },
    {
      "metadata": {
        "id": "EM5SwzUqPKay",
        "colab_type": "code",
        "colab": {
          "base_uri": "https://localhost:8080/",
          "height": 51
        },
        "outputId": "bc44ea52-4186-4ff3-da45-d42e15e7a932"
      },
      "cell_type": "code",
      "source": [
        "#------------------------------necessary dependencies------------------------#\n",
        "\n",
        "\n",
        "\n",
        "%%time\n",
        "import numpy as np\n",
        "\n",
        "\n",
        "#------------------------------------for ner-------------------------------------#\n",
        "# !pip install spacy\n",
        "# !python3 -m spacy download en\n",
        "import spacy\n",
        "en_nlp = spacy.load('en')\n",
        "\n",
        "\n",
        "#-----------------------------------for pos tagging--------------------------#\n",
        "# !pip install nltk\n",
        "import nltk\n",
        "import numpy as np\n",
        "# nltk.download('all')\n",
        "from nltk import Tree,pos_tag, word_tokenize"
      ],
      "execution_count": 1,
      "outputs": [
        {
          "output_type": "stream",
          "text": [
            "CPU times: user 1.24 s, sys: 192 ms, total: 1.44 s\n",
            "Wall time: 1.44 s\n"
          ],
          "name": "stdout"
        }
      ]
    },
    {
      "metadata": {
        "id": "yIDp8lNXPa5O",
        "colab_type": "code",
        "colab": {}
      },
      "cell_type": "code",
      "source": [
        "#-------------------------------------------funtion defination-----------------#\n",
        "def pos_and_ner(tempdoc):\n",
        "  \n",
        "  #pos tagging\n",
        "  super_pos_tuplelist = []\n",
        "  for tempsent in en_nlp(str(tempdoc)).sents:\n",
        "    tuplelist = []\n",
        "    tempsent2 = word_tokenize(str(tempsent))\n",
        "    for tupleele in nltk.pos_tag(tempsent2):\n",
        "      tuplelist.append(tupleele)\n",
        "    super_pos_tuplelist.append(tuplelist)\n",
        "  \n",
        "  #ner\n",
        "  ner_tuplelist = []\n",
        "  tempdoc2 = en_nlp(str(tempdoc))\n",
        "  for ent in tempdoc2.ents:\n",
        "    temptup = (ent.text, ent.label_)\n",
        "    ner_tuplelist.append(temptup)\n",
        "    \n",
        "  return {\"super_pos_tuplelist\" : super_pos_tuplelist, \"ner_tuplelist\" : ner_tuplelist}"
      ],
      "execution_count": 0,
      "outputs": []
    },
    {
      "metadata": {
        "id": "MYYu1fljRA9q",
        "colab_type": "code",
        "colab": {
          "base_uri": "https://localhost:8080/",
          "height": 34
        },
        "outputId": "61ea930b-3751-4795-c9db-694dc4daff4d"
      },
      "cell_type": "code",
      "source": [
        "sampledoc = \"\"\"• Defined long-term marketing strategy for a leading telecommunication company\n",
        "• Developed a business plan for three main segments and assessed opportunities for incumbent\n",
        "and new entrants (virtual operator, segment focus approach)\"\"\"\n",
        "\n",
        "result = pos_and_ner(sampledoc)\n",
        "print(type(result))"
      ],
      "execution_count": 36,
      "outputs": [
        {
          "output_type": "stream",
          "text": [
            "<class 'dict'>\n"
          ],
          "name": "stdout"
        }
      ]
    },
    {
      "metadata": {
        "id": "8b_YG5YaZFH7",
        "colab_type": "code",
        "colab": {}
      },
      "cell_type": "code",
      "source": [
        "'''\n",
        "POS Tag\tDescription\tExample\n",
        "\n",
        "CC\tcoordinating conjunction\tand\n",
        "CD\tcardinal number\t1, third\n",
        "DT\tdeterminer\tthe\n",
        "EX\texistential there\tthere is\n",
        "FW\tforeign word\td’hoevre\n",
        "IN\tpreposition/subordinating conjunction\tin, of, like\n",
        "JJ\tadjective\tbig\n",
        "JJR\tadjective, comparative\tbigger\n",
        "JJS\tadjective, superlative\tbiggest\n",
        "LS\tlist marker\t1)\n",
        "MD\tmodal\tcould, will\n",
        "NN\tnoun, singular or mass\tdoor\n",
        "NNS\tnoun plural\tdoors\n",
        "NNP\tproper noun, singular\tJohn\n",
        "NNPS\tproper noun, plural\tVikings\n",
        "PDT\tpredeterminer\tboth the boys\n",
        "POS\tpossessive ending\tfriend‘s\n",
        "PRP\tpersonal pronoun\tI, he, it\n",
        "PRP$\tpossessive pronoun\tmy, his\n",
        "RB\tadverb\thowever, usually, naturally, here, good\n",
        "RBR\tadverb, comparative\tbetter\n",
        "RBS\tadverb, superlative\tbest\n",
        "RP\tparticle\tgive up\n",
        "TO\tto\tto go, to him\n",
        "UH\tinterjection\tuhhuhhuhh\n",
        "VB\tverb, base form\ttake\n",
        "VBD\tverb, past tense\ttook\n",
        "VBG\tverb, gerund/present participle\ttaking\n",
        "VBN\tverb, past participle\ttaken\n",
        "VBP\tverb, sing. present, non-3d\ttake\n",
        "VBZ\tverb, 3rd person sing. present\ttakes\n",
        "WDT\twh-determiner\twhich\n",
        "WP\twh-pronoun\twho, what\n",
        "WP$\tpossessive wh-pronoun\twhose\n",
        "WRB\twh-abverb\twhere, when\n",
        "'''"
      ],
      "execution_count": 0,
      "outputs": []
    },
    {
      "metadata": {
        "id": "NFyXiuVyYmPB",
        "colab_type": "code",
        "colab": {}
      },
      "cell_type": "code",
      "source": [
        "avoidlist = ['IN', '(', ')', 'CC', ',', 'DT']\n",
        "includelist = ['VB', 'VBD', 'VBG', 'VBN', 'VBP', 'VBZ', 'NN', 'NNS', 'NNP', 'NNPS', 'JJ', 'JJR', 'JJS']"
      ],
      "execution_count": 0,
      "outputs": []
    },
    {
      "metadata": {
        "id": "ylkLN0RZRB2C",
        "colab_type": "code",
        "colab": {
          "base_uri": "https://localhost:8080/",
          "height": 105
        },
        "outputId": "ac08b7ea-a9a2-465c-f1a9-8996e64b19da"
      },
      "cell_type": "code",
      "source": [
        "#printing ele not in avoidlist\n",
        "\n",
        "for tuplelist in result['super_pos_tuplelist']:\n",
        "  for tupleele in tuplelist:\n",
        "    if tupleele[1] not in avoidlist:\n",
        "      print(tupleele[0],'\\x1b[1;30;47m',tupleele[1],'\\x1b[0m',end=\"\")\n",
        "  print(\"\\n\")"
      ],
      "execution_count": 42,
      "outputs": [
        {
          "output_type": "stream",
          "text": [
            "• \u001b[1;30;47m NN \u001b[0mDefined \u001b[1;30;47m VBD \u001b[0mlong-term \u001b[1;30;47m JJ \u001b[0mmarketing \u001b[1;30;47m NN \u001b[0mstrategy \u001b[1;30;47m NN \u001b[0mleading \u001b[1;30;47m VBG \u001b[0mtelecommunication \u001b[1;30;47m NN \u001b[0mcompany \u001b[1;30;47m NN \u001b[0m• \u001b[1;30;47m NN \u001b[0m\n",
            "\n",
            "Developed \u001b[1;30;47m VBN \u001b[0mbusiness \u001b[1;30;47m NN \u001b[0mplan \u001b[1;30;47m NN \u001b[0mthree \u001b[1;30;47m CD \u001b[0mmain \u001b[1;30;47m JJ \u001b[0msegments \u001b[1;30;47m NNS \u001b[0massessed \u001b[1;30;47m JJ \u001b[0mopportunities \u001b[1;30;47m NNS \u001b[0mincumbent \u001b[1;30;47m NN \u001b[0mnew \u001b[1;30;47m JJ \u001b[0mentrants \u001b[1;30;47m NNS \u001b[0mvirtual \u001b[1;30;47m JJ \u001b[0moperator \u001b[1;30;47m NN \u001b[0msegment \u001b[1;30;47m NN \u001b[0mfocus \u001b[1;30;47m NN \u001b[0mapproach \u001b[1;30;47m NN \u001b[0m\n",
            "\n"
          ],
          "name": "stdout"
        }
      ]
    },
    {
      "metadata": {
        "id": "qxMazPxTaqZe",
        "colab_type": "code",
        "colab": {
          "base_uri": "https://localhost:8080/",
          "height": 105
        },
        "outputId": "81ed6605-697c-4cfc-fc8d-4d0771fc0c3e"
      },
      "cell_type": "code",
      "source": [
        "#printing ele in includelist\n",
        "\n",
        "for tuplelist in result['super_pos_tuplelist']:\n",
        "  for tupleele in tuplelist:\n",
        "    if tupleele[1] in includelist:\n",
        "      print(tupleele[0],'\\x1b[1;30;47m',tupleele[1],'\\x1b[0m',end=\"\")\n",
        "  print(\"\\n\")"
      ],
      "execution_count": 44,
      "outputs": [
        {
          "output_type": "stream",
          "text": [
            "• \u001b[1;30;47m NN \u001b[0mDefined \u001b[1;30;47m VBD \u001b[0mlong-term \u001b[1;30;47m JJ \u001b[0mmarketing \u001b[1;30;47m NN \u001b[0mstrategy \u001b[1;30;47m NN \u001b[0mleading \u001b[1;30;47m VBG \u001b[0mtelecommunication \u001b[1;30;47m NN \u001b[0mcompany \u001b[1;30;47m NN \u001b[0m• \u001b[1;30;47m NN \u001b[0m\n",
            "\n",
            "Developed \u001b[1;30;47m VBN \u001b[0mbusiness \u001b[1;30;47m NN \u001b[0mplan \u001b[1;30;47m NN \u001b[0mmain \u001b[1;30;47m JJ \u001b[0msegments \u001b[1;30;47m NNS \u001b[0massessed \u001b[1;30;47m JJ \u001b[0mopportunities \u001b[1;30;47m NNS \u001b[0mincumbent \u001b[1;30;47m NN \u001b[0mnew \u001b[1;30;47m JJ \u001b[0mentrants \u001b[1;30;47m NNS \u001b[0mvirtual \u001b[1;30;47m JJ \u001b[0moperator \u001b[1;30;47m NN \u001b[0msegment \u001b[1;30;47m NN \u001b[0mfocus \u001b[1;30;47m NN \u001b[0mapproach \u001b[1;30;47m NN \u001b[0m\n",
            "\n"
          ],
          "name": "stdout"
        }
      ]
    },
    {
      "metadata": {
        "id": "bFWloo_YbUvo",
        "colab_type": "code",
        "colab": {
          "base_uri": "https://localhost:8080/",
          "height": 85
        },
        "outputId": "aa2cafa7-0387-44d9-cd79-ff2b9c3474d6"
      },
      "cell_type": "code",
      "source": [
        "#printing ele not in both includelist and avoidlist \n",
        "\n",
        "for tuplelist in result['super_pos_tuplelist']:\n",
        "  for tupleele in tuplelist:\n",
        "    if tupleele[1] not in includelist and tupleele[1] not in avoidlist:\n",
        "      print(tupleele[0],'\\x1b[1;30;47m',tupleele[1],'\\x1b[0m',end=\"\")\n",
        "  print(\"\\n\")"
      ],
      "execution_count": 45,
      "outputs": [
        {
          "output_type": "stream",
          "text": [
            "\n",
            "\n",
            "three \u001b[1;30;47m CD \u001b[0m\n",
            "\n"
          ],
          "name": "stdout"
        }
      ]
    },
    {
      "metadata": {
        "id": "BAb8DvGuXk-i",
        "colab_type": "code",
        "colab": {
          "base_uri": "https://localhost:8080/",
          "height": 68
        },
        "outputId": "28858a38-a491-4c91-f39d-223fa8d82056"
      },
      "cell_type": "code",
      "source": [
        "for tuplelist in result['ner_tuplelist']:\n",
        "  print(tuplelist)"
      ],
      "execution_count": 39,
      "outputs": [
        {
          "output_type": "stream",
          "text": [
            "('\\n', 'GPE')\n",
            "('three', 'CARDINAL')\n",
            "('\\n', 'GPE')\n"
          ],
          "name": "stdout"
        }
      ]
    },
    {
      "metadata": {
        "id": "9tLwTGebYSnD",
        "colab_type": "code",
        "colab": {}
      },
      "cell_type": "code",
      "source": [
        ""
      ],
      "execution_count": 0,
      "outputs": []
    }
  ]
}